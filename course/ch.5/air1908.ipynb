{
 "cells": [
  {
   "cell_type": "code",
   "execution_count": 1,
   "metadata": {
    "collapsed": true,
    "pycharm": {
     "is_executing": false
    }
   },
   "outputs": [],
   "source": [
    "import pandas as pd\n",
    "import numpy as np"
   ]
  },
  {
   "cell_type": "code",
   "execution_count": 2,
   "outputs": [],
   "source": [
    "data = pd.read_csv('air1908.csv')"
   ],
   "metadata": {
    "collapsed": false,
    "pycharm": {
     "name": "#%%\n",
     "is_executing": false
    }
   }
  },
  {
   "cell_type": "code",
   "execution_count": 3,
   "outputs": [
    {
     "data": {
      "text/plain": "         Date   Time                            Location  \\\n0  09/17/1908  17:18                 Fort Myer, Virginia   \n1  07/12/1912  06:30             AtlantiCity, New Jersey   \n2  08/06/1913    NaN  Victoria, British Columbia, Canada   \n3  09/09/1913  18:30                  Over the North Sea   \n4  10/17/1913  10:30          Near Johannisthal, Germany   \n\n                 Operator Flight #          Route                    Type  \\\n0    Military - U.S. Army      NaN  Demonstration        Wright Flyer III   \n1    Military - U.S. Navy      NaN    Test flight               Dirigible   \n2                 Private        -            NaN        Curtiss seaplane   \n3  Military - German Navy      NaN            NaN  Zeppelin L-1 (airship)   \n4  Military - German Navy      NaN            NaN  Zeppelin L-2 (airship)   \n\n  Registration cn/In  Aboard  Fatalities  Ground  \\\n0          NaN     1     2.0         1.0     0.0   \n1          NaN   NaN     5.0         5.0     0.0   \n2          NaN   NaN     1.0         1.0     0.0   \n3          NaN   NaN    20.0        14.0     0.0   \n4          NaN   NaN    30.0        30.0     0.0   \n\n                                             Summary  \n0  During a demonstration flight, a U.S. Army fly...  \n1  First U.S. dirigible Akron exploded just offsh...  \n2  The first fatal airplane accident in Canada oc...  \n3  The airship flew into a thunderstorm and encou...  \n4  Hydrogen gas which was being vented was sucked...  ",
      "text/html": "<div>\n<style scoped>\n    .dataframe tbody tr th:only-of-type {\n        vertical-align: middle;\n    }\n\n    .dataframe tbody tr th {\n        vertical-align: top;\n    }\n\n    .dataframe thead th {\n        text-align: right;\n    }\n</style>\n<table border=\"1\" class=\"dataframe\">\n  <thead>\n    <tr style=\"text-align: right;\">\n      <th></th>\n      <th>Date</th>\n      <th>Time</th>\n      <th>Location</th>\n      <th>Operator</th>\n      <th>Flight #</th>\n      <th>Route</th>\n      <th>Type</th>\n      <th>Registration</th>\n      <th>cn/In</th>\n      <th>Aboard</th>\n      <th>Fatalities</th>\n      <th>Ground</th>\n      <th>Summary</th>\n    </tr>\n  </thead>\n  <tbody>\n    <tr>\n      <th>0</th>\n      <td>09/17/1908</td>\n      <td>17:18</td>\n      <td>Fort Myer, Virginia</td>\n      <td>Military - U.S. Army</td>\n      <td>NaN</td>\n      <td>Demonstration</td>\n      <td>Wright Flyer III</td>\n      <td>NaN</td>\n      <td>1</td>\n      <td>2.0</td>\n      <td>1.0</td>\n      <td>0.0</td>\n      <td>During a demonstration flight, a U.S. Army fly...</td>\n    </tr>\n    <tr>\n      <th>1</th>\n      <td>07/12/1912</td>\n      <td>06:30</td>\n      <td>AtlantiCity, New Jersey</td>\n      <td>Military - U.S. Navy</td>\n      <td>NaN</td>\n      <td>Test flight</td>\n      <td>Dirigible</td>\n      <td>NaN</td>\n      <td>NaN</td>\n      <td>5.0</td>\n      <td>5.0</td>\n      <td>0.0</td>\n      <td>First U.S. dirigible Akron exploded just offsh...</td>\n    </tr>\n    <tr>\n      <th>2</th>\n      <td>08/06/1913</td>\n      <td>NaN</td>\n      <td>Victoria, British Columbia, Canada</td>\n      <td>Private</td>\n      <td>-</td>\n      <td>NaN</td>\n      <td>Curtiss seaplane</td>\n      <td>NaN</td>\n      <td>NaN</td>\n      <td>1.0</td>\n      <td>1.0</td>\n      <td>0.0</td>\n      <td>The first fatal airplane accident in Canada oc...</td>\n    </tr>\n    <tr>\n      <th>3</th>\n      <td>09/09/1913</td>\n      <td>18:30</td>\n      <td>Over the North Sea</td>\n      <td>Military - German Navy</td>\n      <td>NaN</td>\n      <td>NaN</td>\n      <td>Zeppelin L-1 (airship)</td>\n      <td>NaN</td>\n      <td>NaN</td>\n      <td>20.0</td>\n      <td>14.0</td>\n      <td>0.0</td>\n      <td>The airship flew into a thunderstorm and encou...</td>\n    </tr>\n    <tr>\n      <th>4</th>\n      <td>10/17/1913</td>\n      <td>10:30</td>\n      <td>Near Johannisthal, Germany</td>\n      <td>Military - German Navy</td>\n      <td>NaN</td>\n      <td>NaN</td>\n      <td>Zeppelin L-2 (airship)</td>\n      <td>NaN</td>\n      <td>NaN</td>\n      <td>30.0</td>\n      <td>30.0</td>\n      <td>0.0</td>\n      <td>Hydrogen gas which was being vented was sucked...</td>\n    </tr>\n  </tbody>\n</table>\n</div>"
     },
     "metadata": {},
     "output_type": "execute_result",
     "execution_count": 3
    }
   ],
   "source": [
    "data.head()"
   ],
   "metadata": {
    "collapsed": false,
    "pycharm": {
     "name": "#%%\n",
     "is_executing": false
    }
   }
  },
  {
   "cell_type": "code",
   "execution_count": 8,
   "outputs": [
    {
     "data": {
      "text/plain": "Type          0\nAboard        0\nFatalities    0\ndtype: int64"
     },
     "metadata": {},
     "output_type": "execute_result",
     "execution_count": 8
    }
   ],
   "source": [
    "data[['Type','Aboard','Fatalities']].isnull().sum()"
   ],
   "metadata": {
    "collapsed": false,
    "pycharm": {
     "name": "#%%\n",
     "is_executing": false
    }
   }
  },
  {
   "cell_type": "code",
   "execution_count": 7,
   "outputs": [],
   "source": [
    "data = data[['Type','Aboard','Fatalities']].dropna()"
   ],
   "metadata": {
    "collapsed": false,
    "pycharm": {
     "name": "#%%\n",
     "is_executing": false
    }
   }
  },
  {
   "cell_type": "code",
   "execution_count": 10,
   "outputs": [],
   "source": [
    "data['Type'] = data.Type.map(lambda x:x.split()[0])"
   ],
   "metadata": {
    "collapsed": false,
    "pycharm": {
     "name": "#%%\n",
     "is_executing": false
    }
   }
  },
  {
   "cell_type": "code",
   "execution_count": 17,
   "outputs": [],
   "source": [
    "top5 = data.Type.value_counts()[:5].index"
   ],
   "metadata": {
    "collapsed": false,
    "pycharm": {
     "name": "#%%\n",
     "is_executing": false
    }
   }
  },
  {
   "cell_type": "code",
   "execution_count": 20,
   "outputs": [],
   "source": [
    "data = data[data.Type.isin(top5)]    #成员关系判断"
   ],
   "metadata": {
    "collapsed": false,
    "pycharm": {
     "name": "#%%\n",
     "is_executing": false
    }
   }
  },
  {
   "cell_type": "code",
   "execution_count": 23,
   "outputs": [
    {
     "data": {
      "text/plain": "array(['de', 'Douglas', 'Boeing', 'Lockheed', 'Cessna'], dtype=object)"
     },
     "metadata": {},
     "output_type": "execute_result",
     "execution_count": 23
    }
   ],
   "source": [
    "data.Type.unique()"
   ],
   "metadata": {
    "collapsed": false,
    "pycharm": {
     "name": "#%%\n",
     "is_executing": false
    }
   }
  },
  {
   "cell_type": "code",
   "execution_count": 25,
   "outputs": [
    {
     "name": "stderr",
     "text": [
      "c:\\users\\rephi\\appdata\\local\\programs\\python\\python37\\lib\\site-packages\\ipykernel_launcher.py:1: SettingWithCopyWarning: \n",
      "A value is trying to be set on a copy of a slice from a DataFrame.\n",
      "Try using .loc[row_indexer,col_indexer] = value instead\n",
      "\n",
      "See the caveats in the documentation: https://pandas.pydata.org/pandas-docs/stable/user_guide/indexing.html#returning-a-view-versus-a-copy\n",
      "  \"\"\"Entry point for launching an IPython kernel.\n"
     ],
     "output_type": "stream"
    }
   ],
   "source": [
    "data['sv']=np.round((data.Aboard - data.Fatalities)/data.Aboard,2) "
   ],
   "metadata": {
    "collapsed": false,
    "pycharm": {
     "name": "#%%\n",
     "is_executing": false
    }
   }
  },
  {
   "cell_type": "code",
   "execution_count": 28,
   "outputs": [
    {
     "data": {
      "text/plain": "0.20883720930232558"
     },
     "metadata": {},
     "output_type": "execute_result",
     "execution_count": 28
    }
   ],
   "source": [
    "data[data.Type=='de']['sv'].mean()"
   ],
   "metadata": {
    "collapsed": false,
    "pycharm": {
     "name": "#%%\n",
     "is_executing": false
    }
   }
  },
  {
   "cell_type": "code",
   "execution_count": 29,
   "outputs": [
    {
     "data": {
      "text/plain": "0.2499191374663073"
     },
     "metadata": {},
     "output_type": "execute_result",
     "execution_count": 29
    }
   ],
   "source": [
    "data[data.Type=='Boeing']['sv'].mean()"
   ],
   "metadata": {
    "collapsed": false,
    "pycharm": {
     "name": "#%%\n",
     "is_executing": false
    }
   }
  },
  {
   "cell_type": "code",
   "execution_count": 30,
   "outputs": [
    {
     "data": {
      "text/plain": "0.16187885010266942"
     },
     "metadata": {},
     "output_type": "execute_result",
     "execution_count": 30
    }
   ],
   "source": [
    "data[data.Type=='Douglas']['sv'].mean()"
   ],
   "metadata": {
    "collapsed": false,
    "pycharm": {
     "name": "#%%\n",
     "is_executing": false
    }
   }
  }
 ],
 "metadata": {
  "kernelspec": {
   "display_name": "Python 3",
   "language": "python",
   "name": "python3"
  },
  "language_info": {
   "codemirror_mode": {
    "name": "ipython",
    "version": 2
   },
   "file_extension": ".py",
   "mimetype": "text/x-python",
   "name": "python",
   "nbconvert_exporter": "python",
   "pygments_lexer": "ipython2",
   "version": "2.7.6"
  },
  "pycharm": {
   "stem_cell": {
    "cell_type": "raw",
    "source": [],
    "metadata": {
     "collapsed": false
    }
   }
  }
 },
 "nbformat": 4,
 "nbformat_minor": 0
}