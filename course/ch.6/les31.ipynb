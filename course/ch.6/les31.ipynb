{
 "cells": [
  {
   "cell_type": "code",
   "execution_count": 2,
   "metadata": {
    "collapsed": true,
    "pycharm": {
     "is_executing": false
    }
   },
   "outputs": [],
   "source": [
    "import numpy as np\n",
    "import pandas as pd"
   ]
  },
  {
   "cell_type": "code",
   "execution_count": 4,
   "outputs": [],
   "source": [
    "df = pd.DataFrame({'animal':'cat dog cat fish dog cat cat'.split(),\n",
    "                   'size':list('SSMMMLL'),\n",
    "                   'weight':[8,10,11,1,20,12,12],\n",
    "                   'adult':[False] * 5 + [True] * 2}) "
   ],
   "metadata": {
    "collapsed": false,
    "pycharm": {
     "name": "#%%\n",
     "is_executing": false
    }
   }
  },
  {
   "cell_type": "code",
   "execution_count": 5,
   "outputs": [
    {
     "data": {
      "text/plain": "  animal size  weight  adult\n0    cat    S       8  False\n1    dog    S      10  False\n2    cat    M      11  False\n3   fish    M       1  False\n4    dog    M      20  False\n5    cat    L      12   True\n6    cat    L      12   True",
      "text/html": "<div>\n<style scoped>\n    .dataframe tbody tr th:only-of-type {\n        vertical-align: middle;\n    }\n\n    .dataframe tbody tr th {\n        vertical-align: top;\n    }\n\n    .dataframe thead th {\n        text-align: right;\n    }\n</style>\n<table border=\"1\" class=\"dataframe\">\n  <thead>\n    <tr style=\"text-align: right;\">\n      <th></th>\n      <th>animal</th>\n      <th>size</th>\n      <th>weight</th>\n      <th>adult</th>\n    </tr>\n  </thead>\n  <tbody>\n    <tr>\n      <th>0</th>\n      <td>cat</td>\n      <td>S</td>\n      <td>8</td>\n      <td>False</td>\n    </tr>\n    <tr>\n      <th>1</th>\n      <td>dog</td>\n      <td>S</td>\n      <td>10</td>\n      <td>False</td>\n    </tr>\n    <tr>\n      <th>2</th>\n      <td>cat</td>\n      <td>M</td>\n      <td>11</td>\n      <td>False</td>\n    </tr>\n    <tr>\n      <th>3</th>\n      <td>fish</td>\n      <td>M</td>\n      <td>1</td>\n      <td>False</td>\n    </tr>\n    <tr>\n      <th>4</th>\n      <td>dog</td>\n      <td>M</td>\n      <td>20</td>\n      <td>False</td>\n    </tr>\n    <tr>\n      <th>5</th>\n      <td>cat</td>\n      <td>L</td>\n      <td>12</td>\n      <td>True</td>\n    </tr>\n    <tr>\n      <th>6</th>\n      <td>cat</td>\n      <td>L</td>\n      <td>12</td>\n      <td>True</td>\n    </tr>\n  </tbody>\n</table>\n</div>"
     },
     "metadata": {},
     "output_type": "execute_result",
     "execution_count": 5
    }
   ],
   "source": [
    "df"
   ],
   "metadata": {
    "collapsed": false,
    "pycharm": {
     "name": "#%%\n",
     "is_executing": false
    }
   }
  },
  {
   "cell_type": "code",
   "execution_count": 10,
   "outputs": [
    {
     "data": {
      "text/plain": "animal\ncat     10.75\ndog     15.00\nfish     1.00\nName: weight, dtype: float64"
     },
     "metadata": {},
     "output_type": "execute_result",
     "execution_count": 10
    }
   ],
   "source": [
    "df.groupby('animal')['weight'].mean()"
   ],
   "metadata": {
    "collapsed": false,
    "pycharm": {
     "name": "#%%\n",
     "is_executing": false
    }
   }
  },
  {
   "cell_type": "code",
   "execution_count": 15,
   "outputs": [
    {
     "data": {
      "text/plain": "0   -1.000000\n1    1.000000\n2    0.333333\n3   -9.666667\n4    9.333333\n5    0.000000\n6    0.000000\nName: weight, dtype: float64"
     },
     "metadata": {},
     "output_type": "execute_result",
     "execution_count": 15
    }
   ],
   "source": [
    "df.groupby('size')['weight'].apply(lambda x:x-x.mean())"
   ],
   "metadata": {
    "collapsed": false,
    "pycharm": {
     "name": "#%%\n",
     "is_executing": false
    }
   }
  },
  {
   "cell_type": "code",
   "execution_count": 18,
   "outputs": [
    {
     "data": {
      "text/plain": "size  adult\nL     True     2.0\nM     False    3.0\nS     False    2.0\ndtype: float64"
     },
     "metadata": {},
     "output_type": "execute_result",
     "execution_count": 18
    }
   ],
   "source": [
    "df.groupby(['size', 'adult']).size().unstack().stack()"
   ],
   "metadata": {
    "collapsed": false,
    "pycharm": {
     "name": "#%%\n",
     "is_executing": false
    }
   }
  },
  {
   "cell_type": "code",
   "execution_count": 21,
   "outputs": [],
   "source": [
    "data = pd.DataFrame(np.random.randn(4,3), \n",
    "                    index=list('abcd'), columns=['r','g','k'])"
   ],
   "metadata": {
    "collapsed": false,
    "pycharm": {
     "name": "#%%\n",
     "is_executing": false
    }
   }
  },
  {
   "cell_type": "code",
   "execution_count": 25,
   "outputs": [
    {
     "data": {
      "text/plain": "          a         b         c         d\nr -0.776372 -0.201062 -0.506249 -0.760586\ng -1.917253 -0.803460  0.150049 -1.112656\nk -0.988948  0.617476 -0.353377 -0.057980",
      "text/html": "<div>\n<style scoped>\n    .dataframe tbody tr th:only-of-type {\n        vertical-align: middle;\n    }\n\n    .dataframe tbody tr th {\n        vertical-align: top;\n    }\n\n    .dataframe thead th {\n        text-align: right;\n    }\n</style>\n<table border=\"1\" class=\"dataframe\">\n  <thead>\n    <tr style=\"text-align: right;\">\n      <th></th>\n      <th>a</th>\n      <th>b</th>\n      <th>c</th>\n      <th>d</th>\n    </tr>\n  </thead>\n  <tbody>\n    <tr>\n      <th>r</th>\n      <td>-0.776372</td>\n      <td>-0.201062</td>\n      <td>-0.506249</td>\n      <td>-0.760586</td>\n    </tr>\n    <tr>\n      <th>g</th>\n      <td>-1.917253</td>\n      <td>-0.803460</td>\n      <td>0.150049</td>\n      <td>-1.112656</td>\n    </tr>\n    <tr>\n      <th>k</th>\n      <td>-0.988948</td>\n      <td>0.617476</td>\n      <td>-0.353377</td>\n      <td>-0.057980</td>\n    </tr>\n  </tbody>\n</table>\n</div>"
     },
     "metadata": {},
     "output_type": "execute_result",
     "execution_count": 25
    }
   ],
   "source": [
    "data.stack().unstack(0)"
   ],
   "metadata": {
    "collapsed": false,
    "pycharm": {
     "name": "#%%\n",
     "is_executing": false
    }
   }
  },
  {
   "cell_type": "code",
   "execution_count": 27,
   "outputs": [
    {
     "data": {
      "text/plain": "          a         b         c         d\nr -0.776372 -0.201062 -0.506249 -0.760586\ng -1.917253 -0.803460  0.150049 -1.112656\nk -0.988948  0.617476 -0.353377 -0.057980",
      "text/html": "<div>\n<style scoped>\n    .dataframe tbody tr th:only-of-type {\n        vertical-align: middle;\n    }\n\n    .dataframe tbody tr th {\n        vertical-align: top;\n    }\n\n    .dataframe thead th {\n        text-align: right;\n    }\n</style>\n<table border=\"1\" class=\"dataframe\">\n  <thead>\n    <tr style=\"text-align: right;\">\n      <th></th>\n      <th>a</th>\n      <th>b</th>\n      <th>c</th>\n      <th>d</th>\n    </tr>\n  </thead>\n  <tbody>\n    <tr>\n      <th>r</th>\n      <td>-0.776372</td>\n      <td>-0.201062</td>\n      <td>-0.506249</td>\n      <td>-0.760586</td>\n    </tr>\n    <tr>\n      <th>g</th>\n      <td>-1.917253</td>\n      <td>-0.803460</td>\n      <td>0.150049</td>\n      <td>-1.112656</td>\n    </tr>\n    <tr>\n      <th>k</th>\n      <td>-0.988948</td>\n      <td>0.617476</td>\n      <td>-0.353377</td>\n      <td>-0.057980</td>\n    </tr>\n  </tbody>\n</table>\n</div>"
     },
     "metadata": {},
     "output_type": "execute_result",
     "execution_count": 27
    }
   ],
   "source": [
    "data.T\n"
   ],
   "metadata": {
    "collapsed": false,
    "pycharm": {
     "name": "#%%\n",
     "is_executing": false
    }
   }
  }
 ],
 "metadata": {
  "kernelspec": {
   "display_name": "Python 3",
   "language": "python",
   "name": "python3"
  },
  "language_info": {
   "codemirror_mode": {
    "name": "ipython",
    "version": 2
   },
   "file_extension": ".py",
   "mimetype": "text/x-python",
   "name": "python",
   "nbconvert_exporter": "python",
   "pygments_lexer": "ipython2",
   "version": "2.7.6"
  },
  "pycharm": {
   "stem_cell": {
    "cell_type": "raw",
    "source": [],
    "metadata": {
     "collapsed": false
    }
   }
  }
 },
 "nbformat": 4,
 "nbformat_minor": 0
}