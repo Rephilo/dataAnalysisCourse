{
 "cells": [
  {
   "cell_type": "markdown",
   "metadata": {
    "collapsed": true,
    "pycharm": {
     "name": "#%% md\n"
    }
   },
   "source": [
    "随机森林"
   ]
  },
  {
   "cell_type": "code",
   "execution_count": 27,
   "outputs": [],
   "source": [
    "import pandas as pd\n",
    "import numpy as np\n",
    "import matplotlib.pyplot as plt\n",
    "from sklearn.model_selection import train_test_split\n",
    "from sklearn.ensemble import RandomForestClassifier\n",
    "from sklearn.model_selection import GridSearchCV"
   ],
   "metadata": {
    "collapsed": false,
    "pycharm": {
     "name": "#%%\n"
    }
   }
  },
  {
   "cell_type": "code",
   "execution_count": 3,
   "outputs": [],
   "source": [
    "data = pd.read_csv('./train.csv')"
   ],
   "metadata": {
    "collapsed": false,
    "pycharm": {
     "name": "#%%\n"
    }
   }
  },
  {
   "cell_type": "code",
   "execution_count": 4,
   "outputs": [
    {
     "data": {
      "text/plain": "Index(['PassengerId', 'Survived', 'Pclass', 'Name', 'Sex', 'Age', 'SibSp',\n       'Parch', 'Ticket', 'Fare', 'Cabin', 'Embarked'],\n      dtype='object')"
     },
     "execution_count": 4,
     "metadata": {},
     "output_type": "execute_result"
    }
   ],
   "source": [
    "data.columns"
   ],
   "metadata": {
    "collapsed": false,
    "pycharm": {
     "name": "#%%\n"
    }
   }
  },
  {
   "cell_type": "code",
   "execution_count": 5,
   "outputs": [],
   "source": [
    "data = data[['Survived', 'Pclass', 'Sex', 'Age', 'SibSp', 'Parch', 'Fare', 'Embarked']]"
   ],
   "metadata": {
    "collapsed": false,
    "pycharm": {
     "name": "#%%\n"
    }
   }
  },
  {
   "cell_type": "code",
   "execution_count": 6,
   "outputs": [],
   "source": [
    "data['Age'] = data['Age'].fillna(data['Age'].mean())"
   ],
   "metadata": {
    "collapsed": false,
    "pycharm": {
     "name": "#%%\n"
    }
   }
  },
  {
   "cell_type": "code",
   "execution_count": 7,
   "outputs": [],
   "source": [
    "data.fillna(0, inplace=True)"
   ],
   "metadata": {
    "collapsed": false,
    "pycharm": {
     "name": "#%%\n"
    }
   }
  },
  {
   "cell_type": "code",
   "execution_count": 8,
   "outputs": [],
   "source": [
    "data['Sex'] = [1 if x == 'male' else 0 for x in data.Sex]"
   ],
   "metadata": {
    "collapsed": false,
    "pycharm": {
     "name": "#%%\n"
    }
   }
  },
  {
   "cell_type": "code",
   "execution_count": 9,
   "outputs": [],
   "source": [
    "# 独热编码 防止数据产生线性关系\n",
    "data['p1'] = np.array(data['Pclass'] == 1).astype(np.int32)\n",
    "data['p2'] = np.array(data['Pclass'] == 2).astype(np.int32)\n",
    "data['p3'] = np.array(data['Pclass'] == 3).astype(np.int32)"
   ],
   "metadata": {
    "collapsed": false,
    "pycharm": {
     "name": "#%%\n"
    }
   }
  },
  {
   "cell_type": "code",
   "execution_count": 10,
   "outputs": [],
   "source": [
    "del data['Pclass']"
   ],
   "metadata": {
    "collapsed": false,
    "pycharm": {
     "name": "#%%\n"
    }
   }
  },
  {
   "cell_type": "code",
   "execution_count": 11,
   "outputs": [
    {
     "data": {
      "text/plain": "array(['S', 'C', 'Q', 0], dtype=object)"
     },
     "execution_count": 11,
     "metadata": {},
     "output_type": "execute_result"
    }
   ],
   "source": [
    "data.Embarked.unique()"
   ],
   "metadata": {
    "collapsed": false,
    "pycharm": {
     "name": "#%%\n"
    }
   }
  },
  {
   "cell_type": "code",
   "execution_count": 12,
   "outputs": [],
   "source": [
    "data['e1'] = np.array(data['Embarked'] == 'S').astype(np.int32)\n",
    "data['e2'] = np.array(data['Embarked'] == 'C').astype(np.int32)\n",
    "data['e3'] = np.array(data['Embarked'] == 'Q').astype(np.int32)"
   ],
   "metadata": {
    "collapsed": false,
    "pycharm": {
     "name": "#%%\n"
    }
   }
  },
  {
   "cell_type": "code",
   "execution_count": 13,
   "outputs": [],
   "source": [
    "del data['Embarked']"
   ],
   "metadata": {
    "collapsed": false,
    "pycharm": {
     "name": "#%%\n"
    }
   }
  },
  {
   "cell_type": "code",
   "execution_count": 14,
   "outputs": [
    {
     "data": {
      "text/plain": "dtype('float64')"
     },
     "execution_count": 14,
     "metadata": {},
     "output_type": "execute_result"
    }
   ],
   "source": [
    "data.values.dtype"
   ],
   "metadata": {
    "collapsed": false,
    "pycharm": {
     "name": "#%%\n"
    }
   }
  },
  {
   "cell_type": "code",
   "execution_count": 15,
   "outputs": [],
   "source": [
    "data_train = data[[x for x in data.columns if x != 'Survived']].values"
   ],
   "metadata": {
    "collapsed": false,
    "pycharm": {
     "name": "#%%\n"
    }
   }
  },
  {
   "cell_type": "code",
   "execution_count": 16,
   "outputs": [],
   "source": [
    "data_target = data['Survived'].values.reshape(len(data), 1)"
   ],
   "metadata": {
    "collapsed": false,
    "pycharm": {
     "name": "#%%\n"
    }
   }
  },
  {
   "cell_type": "code",
   "execution_count": 17,
   "outputs": [
    {
     "data": {
      "text/plain": "((891, 11), (891, 1))"
     },
     "execution_count": 17,
     "metadata": {},
     "output_type": "execute_result"
    }
   ],
   "source": [
    "np.shape(data_train), np.shape(data_target)"
   ],
   "metadata": {
    "collapsed": false,
    "pycharm": {
     "name": "#%%\n"
    }
   }
  },
  {
   "cell_type": "code",
   "execution_count": 18,
   "outputs": [],
   "source": [
    "x_train, x_test, y_train, y_test = train_test_split(data_train, data_target, test_size=0.2)"
   ],
   "metadata": {
    "collapsed": false,
    "pycharm": {
     "name": "#%%\n"
    }
   }
  },
  {
   "cell_type": "code",
   "execution_count": 19,
   "outputs": [
    {
     "data": {
      "text/plain": "((712, 11), (179, 11))"
     },
     "execution_count": 19,
     "metadata": {},
     "output_type": "execute_result"
    }
   ],
   "source": [
    "x_train.shape, x_test.shape"
   ],
   "metadata": {
    "collapsed": false,
    "pycharm": {
     "name": "#%%\n"
    }
   }
  },
  {
   "cell_type": "code",
   "execution_count": 21,
   "outputs": [],
   "source": [
    "model = RandomForestClassifier(n_estimators=100, n_jobs=4)"
   ],
   "metadata": {
    "collapsed": false,
    "pycharm": {
     "name": "#%%\n"
    }
   }
  },
  {
   "cell_type": "code",
   "execution_count": 22,
   "outputs": [
    {
     "data": {
      "text/plain": "RandomForestClassifier(bootstrap=True, ccp_alpha=0.0, class_weight=None,\n                       criterion='gini', max_depth=None, max_features='auto',\n                       max_leaf_nodes=None, max_samples=None,\n                       min_impurity_decrease=0.0, min_impurity_split=None,\n                       min_samples_leaf=1, min_samples_split=2,\n                       min_weight_fraction_leaf=0.0, n_estimators=100,\n                       n_jobs=None, oob_score=False, random_state=None,\n                       verbose=0, warm_start=False)"
     },
     "execution_count": 22,
     "metadata": {},
     "output_type": "execute_result"
    }
   ],
   "source": [
    "model.fit(x_train, y_train.ravel())"
   ],
   "metadata": {
    "collapsed": false,
    "pycharm": {
     "name": "#%%\n"
    }
   }
  },
  {
   "cell_type": "code",
   "execution_count": 23,
   "outputs": [
    {
     "data": {
      "text/plain": "0.8268156424581006"
     },
     "execution_count": 23,
     "metadata": {},
     "output_type": "execute_result"
    }
   ],
   "source": [
    "model.score(x_test, y_test)"
   ],
   "metadata": {
    "collapsed": false,
    "pycharm": {
     "name": "#%%\n"
    }
   }
  },
  {
   "cell_type": "code",
   "execution_count": 24,
   "outputs": [
    {
     "data": {
      "text/plain": "array([0.25085681, 0.26322448, 0.04893817, 0.04738321, 0.26293827,\n       0.02615327, 0.01683334, 0.04873034, 0.01343788, 0.01306713,\n       0.00843709])"
     },
     "execution_count": 24,
     "metadata": {},
     "output_type": "execute_result"
    }
   ],
   "source": [
    "model.feature_importances_"
   ],
   "metadata": {
    "collapsed": false,
    "pycharm": {
     "name": "#%%\n"
    }
   }
  },
  {
   "cell_type": "code",
   "execution_count": 25,
   "outputs": [
    {
     "data": {
      "text/plain": "array([0], dtype=int64)"
     },
     "execution_count": 25,
     "metadata": {},
     "output_type": "execute_result"
    }
   ],
   "source": [
    "model.predict(x_test[0].reshape(1, -1))"
   ],
   "metadata": {
    "collapsed": false,
    "pycharm": {
     "name": "#%%\n"
    }
   }
  },
  {
   "cell_type": "code",
   "execution_count": 26,
   "outputs": [
    {
     "data": {
      "text/plain": "[DecisionTreeClassifier(ccp_alpha=0.0, class_weight=None, criterion='gini',\n                        max_depth=None, max_features='auto', max_leaf_nodes=None,\n                        min_impurity_decrease=0.0, min_impurity_split=None,\n                        min_samples_leaf=1, min_samples_split=2,\n                        min_weight_fraction_leaf=0.0, presort='deprecated',\n                        random_state=1972093618, splitter='best'),\n DecisionTreeClassifier(ccp_alpha=0.0, class_weight=None, criterion='gini',\n                        max_depth=None, max_features='auto', max_leaf_nodes=None,\n                        min_impurity_decrease=0.0, min_impurity_split=None,\n                        min_samples_leaf=1, min_samples_split=2,\n                        min_weight_fraction_leaf=0.0, presort='deprecated',\n                        random_state=367474177, splitter='best'),\n DecisionTreeClassifier(ccp_alpha=0.0, class_weight=None, criterion='gini',\n                        max_depth=None, max_features='auto', max_leaf_nodes=None,\n                        min_impurity_decrease=0.0, min_impurity_split=None,\n                        min_samples_leaf=1, min_samples_split=2,\n                        min_weight_fraction_leaf=0.0, presort='deprecated',\n                        random_state=223636361, splitter='best'),\n DecisionTreeClassifier(ccp_alpha=0.0, class_weight=None, criterion='gini',\n                        max_depth=None, max_features='auto', max_leaf_nodes=None,\n                        min_impurity_decrease=0.0, min_impurity_split=None,\n                        min_samples_leaf=1, min_samples_split=2,\n                        min_weight_fraction_leaf=0.0, presort='deprecated',\n                        random_state=914420892, splitter='best'),\n DecisionTreeClassifier(ccp_alpha=0.0, class_weight=None, criterion='gini',\n                        max_depth=None, max_features='auto', max_leaf_nodes=None,\n                        min_impurity_decrease=0.0, min_impurity_split=None,\n                        min_samples_leaf=1, min_samples_split=2,\n                        min_weight_fraction_leaf=0.0, presort='deprecated',\n                        random_state=1306191273, splitter='best'),\n DecisionTreeClassifier(ccp_alpha=0.0, class_weight=None, criterion='gini',\n                        max_depth=None, max_features='auto', max_leaf_nodes=None,\n                        min_impurity_decrease=0.0, min_impurity_split=None,\n                        min_samples_leaf=1, min_samples_split=2,\n                        min_weight_fraction_leaf=0.0, presort='deprecated',\n                        random_state=1662336559, splitter='best'),\n DecisionTreeClassifier(ccp_alpha=0.0, class_weight=None, criterion='gini',\n                        max_depth=None, max_features='auto', max_leaf_nodes=None,\n                        min_impurity_decrease=0.0, min_impurity_split=None,\n                        min_samples_leaf=1, min_samples_split=2,\n                        min_weight_fraction_leaf=0.0, presort='deprecated',\n                        random_state=1443751221, splitter='best'),\n DecisionTreeClassifier(ccp_alpha=0.0, class_weight=None, criterion='gini',\n                        max_depth=None, max_features='auto', max_leaf_nodes=None,\n                        min_impurity_decrease=0.0, min_impurity_split=None,\n                        min_samples_leaf=1, min_samples_split=2,\n                        min_weight_fraction_leaf=0.0, presort='deprecated',\n                        random_state=758992717, splitter='best'),\n DecisionTreeClassifier(ccp_alpha=0.0, class_weight=None, criterion='gini',\n                        max_depth=None, max_features='auto', max_leaf_nodes=None,\n                        min_impurity_decrease=0.0, min_impurity_split=None,\n                        min_samples_leaf=1, min_samples_split=2,\n                        min_weight_fraction_leaf=0.0, presort='deprecated',\n                        random_state=423459173, splitter='best'),\n DecisionTreeClassifier(ccp_alpha=0.0, class_weight=None, criterion='gini',\n                        max_depth=None, max_features='auto', max_leaf_nodes=None,\n                        min_impurity_decrease=0.0, min_impurity_split=None,\n                        min_samples_leaf=1, min_samples_split=2,\n                        min_weight_fraction_leaf=0.0, presort='deprecated',\n                        random_state=1278471192, splitter='best'),\n DecisionTreeClassifier(ccp_alpha=0.0, class_weight=None, criterion='gini',\n                        max_depth=None, max_features='auto', max_leaf_nodes=None,\n                        min_impurity_decrease=0.0, min_impurity_split=None,\n                        min_samples_leaf=1, min_samples_split=2,\n                        min_weight_fraction_leaf=0.0, presort='deprecated',\n                        random_state=690235304, splitter='best'),\n DecisionTreeClassifier(ccp_alpha=0.0, class_weight=None, criterion='gini',\n                        max_depth=None, max_features='auto', max_leaf_nodes=None,\n                        min_impurity_decrease=0.0, min_impurity_split=None,\n                        min_samples_leaf=1, min_samples_split=2,\n                        min_weight_fraction_leaf=0.0, presort='deprecated',\n                        random_state=74379716, splitter='best'),\n DecisionTreeClassifier(ccp_alpha=0.0, class_weight=None, criterion='gini',\n                        max_depth=None, max_features='auto', max_leaf_nodes=None,\n                        min_impurity_decrease=0.0, min_impurity_split=None,\n                        min_samples_leaf=1, min_samples_split=2,\n                        min_weight_fraction_leaf=0.0, presort='deprecated',\n                        random_state=955065165, splitter='best'),\n DecisionTreeClassifier(ccp_alpha=0.0, class_weight=None, criterion='gini',\n                        max_depth=None, max_features='auto', max_leaf_nodes=None,\n                        min_impurity_decrease=0.0, min_impurity_split=None,\n                        min_samples_leaf=1, min_samples_split=2,\n                        min_weight_fraction_leaf=0.0, presort='deprecated',\n                        random_state=368898716, splitter='best'),\n DecisionTreeClassifier(ccp_alpha=0.0, class_weight=None, criterion='gini',\n                        max_depth=None, max_features='auto', max_leaf_nodes=None,\n                        min_impurity_decrease=0.0, min_impurity_split=None,\n                        min_samples_leaf=1, min_samples_split=2,\n                        min_weight_fraction_leaf=0.0, presort='deprecated',\n                        random_state=2032479867, splitter='best'),\n DecisionTreeClassifier(ccp_alpha=0.0, class_weight=None, criterion='gini',\n                        max_depth=None, max_features='auto', max_leaf_nodes=None,\n                        min_impurity_decrease=0.0, min_impurity_split=None,\n                        min_samples_leaf=1, min_samples_split=2,\n                        min_weight_fraction_leaf=0.0, presort='deprecated',\n                        random_state=1791582045, splitter='best'),\n DecisionTreeClassifier(ccp_alpha=0.0, class_weight=None, criterion='gini',\n                        max_depth=None, max_features='auto', max_leaf_nodes=None,\n                        min_impurity_decrease=0.0, min_impurity_split=None,\n                        min_samples_leaf=1, min_samples_split=2,\n                        min_weight_fraction_leaf=0.0, presort='deprecated',\n                        random_state=2081698223, splitter='best'),\n DecisionTreeClassifier(ccp_alpha=0.0, class_weight=None, criterion='gini',\n                        max_depth=None, max_features='auto', max_leaf_nodes=None,\n                        min_impurity_decrease=0.0, min_impurity_split=None,\n                        min_samples_leaf=1, min_samples_split=2,\n                        min_weight_fraction_leaf=0.0, presort='deprecated',\n                        random_state=467173872, splitter='best'),\n DecisionTreeClassifier(ccp_alpha=0.0, class_weight=None, criterion='gini',\n                        max_depth=None, max_features='auto', max_leaf_nodes=None,\n                        min_impurity_decrease=0.0, min_impurity_split=None,\n                        min_samples_leaf=1, min_samples_split=2,\n                        min_weight_fraction_leaf=0.0, presort='deprecated',\n                        random_state=446240957, splitter='best'),\n DecisionTreeClassifier(ccp_alpha=0.0, class_weight=None, criterion='gini',\n                        max_depth=None, max_features='auto', max_leaf_nodes=None,\n                        min_impurity_decrease=0.0, min_impurity_split=None,\n                        min_samples_leaf=1, min_samples_split=2,\n                        min_weight_fraction_leaf=0.0, presort='deprecated',\n                        random_state=1824292431, splitter='best'),\n DecisionTreeClassifier(ccp_alpha=0.0, class_weight=None, criterion='gini',\n                        max_depth=None, max_features='auto', max_leaf_nodes=None,\n                        min_impurity_decrease=0.0, min_impurity_split=None,\n                        min_samples_leaf=1, min_samples_split=2,\n                        min_weight_fraction_leaf=0.0, presort='deprecated',\n                        random_state=986421007, splitter='best'),\n DecisionTreeClassifier(ccp_alpha=0.0, class_weight=None, criterion='gini',\n                        max_depth=None, max_features='auto', max_leaf_nodes=None,\n                        min_impurity_decrease=0.0, min_impurity_split=None,\n                        min_samples_leaf=1, min_samples_split=2,\n                        min_weight_fraction_leaf=0.0, presort='deprecated',\n                        random_state=1170144864, splitter='best'),\n DecisionTreeClassifier(ccp_alpha=0.0, class_weight=None, criterion='gini',\n                        max_depth=None, max_features='auto', max_leaf_nodes=None,\n                        min_impurity_decrease=0.0, min_impurity_split=None,\n                        min_samples_leaf=1, min_samples_split=2,\n                        min_weight_fraction_leaf=0.0, presort='deprecated',\n                        random_state=665614170, splitter='best'),\n DecisionTreeClassifier(ccp_alpha=0.0, class_weight=None, criterion='gini',\n                        max_depth=None, max_features='auto', max_leaf_nodes=None,\n                        min_impurity_decrease=0.0, min_impurity_split=None,\n                        min_samples_leaf=1, min_samples_split=2,\n                        min_weight_fraction_leaf=0.0, presort='deprecated',\n                        random_state=1655056045, splitter='best'),\n DecisionTreeClassifier(ccp_alpha=0.0, class_weight=None, criterion='gini',\n                        max_depth=None, max_features='auto', max_leaf_nodes=None,\n                        min_impurity_decrease=0.0, min_impurity_split=None,\n                        min_samples_leaf=1, min_samples_split=2,\n                        min_weight_fraction_leaf=0.0, presort='deprecated',\n                        random_state=1888007499, splitter='best'),\n DecisionTreeClassifier(ccp_alpha=0.0, class_weight=None, criterion='gini',\n                        max_depth=None, max_features='auto', max_leaf_nodes=None,\n                        min_impurity_decrease=0.0, min_impurity_split=None,\n                        min_samples_leaf=1, min_samples_split=2,\n                        min_weight_fraction_leaf=0.0, presort='deprecated',\n                        random_state=263627252, splitter='best'),\n DecisionTreeClassifier(ccp_alpha=0.0, class_weight=None, criterion='gini',\n                        max_depth=None, max_features='auto', max_leaf_nodes=None,\n                        min_impurity_decrease=0.0, min_impurity_split=None,\n                        min_samples_leaf=1, min_samples_split=2,\n                        min_weight_fraction_leaf=0.0, presort='deprecated',\n                        random_state=1448664749, splitter='best'),\n DecisionTreeClassifier(ccp_alpha=0.0, class_weight=None, criterion='gini',\n                        max_depth=None, max_features='auto', max_leaf_nodes=None,\n                        min_impurity_decrease=0.0, min_impurity_split=None,\n                        min_samples_leaf=1, min_samples_split=2,\n                        min_weight_fraction_leaf=0.0, presort='deprecated',\n                        random_state=2007393331, splitter='best'),\n DecisionTreeClassifier(ccp_alpha=0.0, class_weight=None, criterion='gini',\n                        max_depth=None, max_features='auto', max_leaf_nodes=None,\n                        min_impurity_decrease=0.0, min_impurity_split=None,\n                        min_samples_leaf=1, min_samples_split=2,\n                        min_weight_fraction_leaf=0.0, presort='deprecated',\n                        random_state=821509675, splitter='best'),\n DecisionTreeClassifier(ccp_alpha=0.0, class_weight=None, criterion='gini',\n                        max_depth=None, max_features='auto', max_leaf_nodes=None,\n                        min_impurity_decrease=0.0, min_impurity_split=None,\n                        min_samples_leaf=1, min_samples_split=2,\n                        min_weight_fraction_leaf=0.0, presort='deprecated',\n                        random_state=414713013, splitter='best'),\n DecisionTreeClassifier(ccp_alpha=0.0, class_weight=None, criterion='gini',\n                        max_depth=None, max_features='auto', max_leaf_nodes=None,\n                        min_impurity_decrease=0.0, min_impurity_split=None,\n                        min_samples_leaf=1, min_samples_split=2,\n                        min_weight_fraction_leaf=0.0, presort='deprecated',\n                        random_state=468668273, splitter='best'),\n DecisionTreeClassifier(ccp_alpha=0.0, class_weight=None, criterion='gini',\n                        max_depth=None, max_features='auto', max_leaf_nodes=None,\n                        min_impurity_decrease=0.0, min_impurity_split=None,\n                        min_samples_leaf=1, min_samples_split=2,\n                        min_weight_fraction_leaf=0.0, presort='deprecated',\n                        random_state=2088270100, splitter='best'),\n DecisionTreeClassifier(ccp_alpha=0.0, class_weight=None, criterion='gini',\n                        max_depth=None, max_features='auto', max_leaf_nodes=None,\n                        min_impurity_decrease=0.0, min_impurity_split=None,\n                        min_samples_leaf=1, min_samples_split=2,\n                        min_weight_fraction_leaf=0.0, presort='deprecated',\n                        random_state=1294508341, splitter='best'),\n DecisionTreeClassifier(ccp_alpha=0.0, class_weight=None, criterion='gini',\n                        max_depth=None, max_features='auto', max_leaf_nodes=None,\n                        min_impurity_decrease=0.0, min_impurity_split=None,\n                        min_samples_leaf=1, min_samples_split=2,\n                        min_weight_fraction_leaf=0.0, presort='deprecated',\n                        random_state=1467804604, splitter='best'),\n DecisionTreeClassifier(ccp_alpha=0.0, class_weight=None, criterion='gini',\n                        max_depth=None, max_features='auto', max_leaf_nodes=None,\n                        min_impurity_decrease=0.0, min_impurity_split=None,\n                        min_samples_leaf=1, min_samples_split=2,\n                        min_weight_fraction_leaf=0.0, presort='deprecated',\n                        random_state=1842134100, splitter='best'),\n DecisionTreeClassifier(ccp_alpha=0.0, class_weight=None, criterion='gini',\n                        max_depth=None, max_features='auto', max_leaf_nodes=None,\n                        min_impurity_decrease=0.0, min_impurity_split=None,\n                        min_samples_leaf=1, min_samples_split=2,\n                        min_weight_fraction_leaf=0.0, presort='deprecated',\n                        random_state=730290444, splitter='best'),\n DecisionTreeClassifier(ccp_alpha=0.0, class_weight=None, criterion='gini',\n                        max_depth=None, max_features='auto', max_leaf_nodes=None,\n                        min_impurity_decrease=0.0, min_impurity_split=None,\n                        min_samples_leaf=1, min_samples_split=2,\n                        min_weight_fraction_leaf=0.0, presort='deprecated',\n                        random_state=1203777646, splitter='best'),\n DecisionTreeClassifier(ccp_alpha=0.0, class_weight=None, criterion='gini',\n                        max_depth=None, max_features='auto', max_leaf_nodes=None,\n                        min_impurity_decrease=0.0, min_impurity_split=None,\n                        min_samples_leaf=1, min_samples_split=2,\n                        min_weight_fraction_leaf=0.0, presort='deprecated',\n                        random_state=552171425, splitter='best'),\n DecisionTreeClassifier(ccp_alpha=0.0, class_weight=None, criterion='gini',\n                        max_depth=None, max_features='auto', max_leaf_nodes=None,\n                        min_impurity_decrease=0.0, min_impurity_split=None,\n                        min_samples_leaf=1, min_samples_split=2,\n                        min_weight_fraction_leaf=0.0, presort='deprecated',\n                        random_state=556063541, splitter='best'),\n DecisionTreeClassifier(ccp_alpha=0.0, class_weight=None, criterion='gini',\n                        max_depth=None, max_features='auto', max_leaf_nodes=None,\n                        min_impurity_decrease=0.0, min_impurity_split=None,\n                        min_samples_leaf=1, min_samples_split=2,\n                        min_weight_fraction_leaf=0.0, presort='deprecated',\n                        random_state=1706281442, splitter='best'),\n DecisionTreeClassifier(ccp_alpha=0.0, class_weight=None, criterion='gini',\n                        max_depth=None, max_features='auto', max_leaf_nodes=None,\n                        min_impurity_decrease=0.0, min_impurity_split=None,\n                        min_samples_leaf=1, min_samples_split=2,\n                        min_weight_fraction_leaf=0.0, presort='deprecated',\n                        random_state=789355163, splitter='best'),\n DecisionTreeClassifier(ccp_alpha=0.0, class_weight=None, criterion='gini',\n                        max_depth=None, max_features='auto', max_leaf_nodes=None,\n                        min_impurity_decrease=0.0, min_impurity_split=None,\n                        min_samples_leaf=1, min_samples_split=2,\n                        min_weight_fraction_leaf=0.0, presort='deprecated',\n                        random_state=432809438, splitter='best'),\n DecisionTreeClassifier(ccp_alpha=0.0, class_weight=None, criterion='gini',\n                        max_depth=None, max_features='auto', max_leaf_nodes=None,\n                        min_impurity_decrease=0.0, min_impurity_split=None,\n                        min_samples_leaf=1, min_samples_split=2,\n                        min_weight_fraction_leaf=0.0, presort='deprecated',\n                        random_state=494219034, splitter='best'),\n DecisionTreeClassifier(ccp_alpha=0.0, class_weight=None, criterion='gini',\n                        max_depth=None, max_features='auto', max_leaf_nodes=None,\n                        min_impurity_decrease=0.0, min_impurity_split=None,\n                        min_samples_leaf=1, min_samples_split=2,\n                        min_weight_fraction_leaf=0.0, presort='deprecated',\n                        random_state=1412939972, splitter='best'),\n DecisionTreeClassifier(ccp_alpha=0.0, class_weight=None, criterion='gini',\n                        max_depth=None, max_features='auto', max_leaf_nodes=None,\n                        min_impurity_decrease=0.0, min_impurity_split=None,\n                        min_samples_leaf=1, min_samples_split=2,\n                        min_weight_fraction_leaf=0.0, presort='deprecated',\n                        random_state=41428001, splitter='best'),\n DecisionTreeClassifier(ccp_alpha=0.0, class_weight=None, criterion='gini',\n                        max_depth=None, max_features='auto', max_leaf_nodes=None,\n                        min_impurity_decrease=0.0, min_impurity_split=None,\n                        min_samples_leaf=1, min_samples_split=2,\n                        min_weight_fraction_leaf=0.0, presort='deprecated',\n                        random_state=1310756016, splitter='best'),\n DecisionTreeClassifier(ccp_alpha=0.0, class_weight=None, criterion='gini',\n                        max_depth=None, max_features='auto', max_leaf_nodes=None,\n                        min_impurity_decrease=0.0, min_impurity_split=None,\n                        min_samples_leaf=1, min_samples_split=2,\n                        min_weight_fraction_leaf=0.0, presort='deprecated',\n                        random_state=1929117711, splitter='best'),\n DecisionTreeClassifier(ccp_alpha=0.0, class_weight=None, criterion='gini',\n                        max_depth=None, max_features='auto', max_leaf_nodes=None,\n                        min_impurity_decrease=0.0, min_impurity_split=None,\n                        min_samples_leaf=1, min_samples_split=2,\n                        min_weight_fraction_leaf=0.0, presort='deprecated',\n                        random_state=851594898, splitter='best'),\n DecisionTreeClassifier(ccp_alpha=0.0, class_weight=None, criterion='gini',\n                        max_depth=None, max_features='auto', max_leaf_nodes=None,\n                        min_impurity_decrease=0.0, min_impurity_split=None,\n                        min_samples_leaf=1, min_samples_split=2,\n                        min_weight_fraction_leaf=0.0, presort='deprecated',\n                        random_state=716714765, splitter='best'),\n DecisionTreeClassifier(ccp_alpha=0.0, class_weight=None, criterion='gini',\n                        max_depth=None, max_features='auto', max_leaf_nodes=None,\n                        min_impurity_decrease=0.0, min_impurity_split=None,\n                        min_samples_leaf=1, min_samples_split=2,\n                        min_weight_fraction_leaf=0.0, presort='deprecated',\n                        random_state=617435967, splitter='best'),\n DecisionTreeClassifier(ccp_alpha=0.0, class_weight=None, criterion='gini',\n                        max_depth=None, max_features='auto', max_leaf_nodes=None,\n                        min_impurity_decrease=0.0, min_impurity_split=None,\n                        min_samples_leaf=1, min_samples_split=2,\n                        min_weight_fraction_leaf=0.0, presort='deprecated',\n                        random_state=1844972277, splitter='best'),\n DecisionTreeClassifier(ccp_alpha=0.0, class_weight=None, criterion='gini',\n                        max_depth=None, max_features='auto', max_leaf_nodes=None,\n                        min_impurity_decrease=0.0, min_impurity_split=None,\n                        min_samples_leaf=1, min_samples_split=2,\n                        min_weight_fraction_leaf=0.0, presort='deprecated',\n                        random_state=1430132476, splitter='best'),\n DecisionTreeClassifier(ccp_alpha=0.0, class_weight=None, criterion='gini',\n                        max_depth=None, max_features='auto', max_leaf_nodes=None,\n                        min_impurity_decrease=0.0, min_impurity_split=None,\n                        min_samples_leaf=1, min_samples_split=2,\n                        min_weight_fraction_leaf=0.0, presort='deprecated',\n                        random_state=83178353, splitter='best'),\n DecisionTreeClassifier(ccp_alpha=0.0, class_weight=None, criterion='gini',\n                        max_depth=None, max_features='auto', max_leaf_nodes=None,\n                        min_impurity_decrease=0.0, min_impurity_split=None,\n                        min_samples_leaf=1, min_samples_split=2,\n                        min_weight_fraction_leaf=0.0, presort='deprecated',\n                        random_state=1431148993, splitter='best'),\n DecisionTreeClassifier(ccp_alpha=0.0, class_weight=None, criterion='gini',\n                        max_depth=None, max_features='auto', max_leaf_nodes=None,\n                        min_impurity_decrease=0.0, min_impurity_split=None,\n                        min_samples_leaf=1, min_samples_split=2,\n                        min_weight_fraction_leaf=0.0, presort='deprecated',\n                        random_state=502247901, splitter='best'),\n DecisionTreeClassifier(ccp_alpha=0.0, class_weight=None, criterion='gini',\n                        max_depth=None, max_features='auto', max_leaf_nodes=None,\n                        min_impurity_decrease=0.0, min_impurity_split=None,\n                        min_samples_leaf=1, min_samples_split=2,\n                        min_weight_fraction_leaf=0.0, presort='deprecated',\n                        random_state=1775905168, splitter='best'),\n DecisionTreeClassifier(ccp_alpha=0.0, class_weight=None, criterion='gini',\n                        max_depth=None, max_features='auto', max_leaf_nodes=None,\n                        min_impurity_decrease=0.0, min_impurity_split=None,\n                        min_samples_leaf=1, min_samples_split=2,\n                        min_weight_fraction_leaf=0.0, presort='deprecated',\n                        random_state=525037550, splitter='best'),\n DecisionTreeClassifier(ccp_alpha=0.0, class_weight=None, criterion='gini',\n                        max_depth=None, max_features='auto', max_leaf_nodes=None,\n                        min_impurity_decrease=0.0, min_impurity_split=None,\n                        min_samples_leaf=1, min_samples_split=2,\n                        min_weight_fraction_leaf=0.0, presort='deprecated',\n                        random_state=1935352910, splitter='best'),\n DecisionTreeClassifier(ccp_alpha=0.0, class_weight=None, criterion='gini',\n                        max_depth=None, max_features='auto', max_leaf_nodes=None,\n                        min_impurity_decrease=0.0, min_impurity_split=None,\n                        min_samples_leaf=1, min_samples_split=2,\n                        min_weight_fraction_leaf=0.0, presort='deprecated',\n                        random_state=640189408, splitter='best'),\n DecisionTreeClassifier(ccp_alpha=0.0, class_weight=None, criterion='gini',\n                        max_depth=None, max_features='auto', max_leaf_nodes=None,\n                        min_impurity_decrease=0.0, min_impurity_split=None,\n                        min_samples_leaf=1, min_samples_split=2,\n                        min_weight_fraction_leaf=0.0, presort='deprecated',\n                        random_state=711318309, splitter='best'),\n DecisionTreeClassifier(ccp_alpha=0.0, class_weight=None, criterion='gini',\n                        max_depth=None, max_features='auto', max_leaf_nodes=None,\n                        min_impurity_decrease=0.0, min_impurity_split=None,\n                        min_samples_leaf=1, min_samples_split=2,\n                        min_weight_fraction_leaf=0.0, presort='deprecated',\n                        random_state=1142892020, splitter='best'),\n DecisionTreeClassifier(ccp_alpha=0.0, class_weight=None, criterion='gini',\n                        max_depth=None, max_features='auto', max_leaf_nodes=None,\n                        min_impurity_decrease=0.0, min_impurity_split=None,\n                        min_samples_leaf=1, min_samples_split=2,\n                        min_weight_fraction_leaf=0.0, presort='deprecated',\n                        random_state=1692901067, splitter='best'),\n DecisionTreeClassifier(ccp_alpha=0.0, class_weight=None, criterion='gini',\n                        max_depth=None, max_features='auto', max_leaf_nodes=None,\n                        min_impurity_decrease=0.0, min_impurity_split=None,\n                        min_samples_leaf=1, min_samples_split=2,\n                        min_weight_fraction_leaf=0.0, presort='deprecated',\n                        random_state=1861859838, splitter='best'),\n DecisionTreeClassifier(ccp_alpha=0.0, class_weight=None, criterion='gini',\n                        max_depth=None, max_features='auto', max_leaf_nodes=None,\n                        min_impurity_decrease=0.0, min_impurity_split=None,\n                        min_samples_leaf=1, min_samples_split=2,\n                        min_weight_fraction_leaf=0.0, presort='deprecated',\n                        random_state=1625416665, splitter='best'),\n DecisionTreeClassifier(ccp_alpha=0.0, class_weight=None, criterion='gini',\n                        max_depth=None, max_features='auto', max_leaf_nodes=None,\n                        min_impurity_decrease=0.0, min_impurity_split=None,\n                        min_samples_leaf=1, min_samples_split=2,\n                        min_weight_fraction_leaf=0.0, presort='deprecated',\n                        random_state=1904206309, splitter='best'),\n DecisionTreeClassifier(ccp_alpha=0.0, class_weight=None, criterion='gini',\n                        max_depth=None, max_features='auto', max_leaf_nodes=None,\n                        min_impurity_decrease=0.0, min_impurity_split=None,\n                        min_samples_leaf=1, min_samples_split=2,\n                        min_weight_fraction_leaf=0.0, presort='deprecated',\n                        random_state=167202793, splitter='best'),\n DecisionTreeClassifier(ccp_alpha=0.0, class_weight=None, criterion='gini',\n                        max_depth=None, max_features='auto', max_leaf_nodes=None,\n                        min_impurity_decrease=0.0, min_impurity_split=None,\n                        min_samples_leaf=1, min_samples_split=2,\n                        min_weight_fraction_leaf=0.0, presort='deprecated',\n                        random_state=30799026, splitter='best'),\n DecisionTreeClassifier(ccp_alpha=0.0, class_weight=None, criterion='gini',\n                        max_depth=None, max_features='auto', max_leaf_nodes=None,\n                        min_impurity_decrease=0.0, min_impurity_split=None,\n                        min_samples_leaf=1, min_samples_split=2,\n                        min_weight_fraction_leaf=0.0, presort='deprecated',\n                        random_state=1723537213, splitter='best'),\n DecisionTreeClassifier(ccp_alpha=0.0, class_weight=None, criterion='gini',\n                        max_depth=None, max_features='auto', max_leaf_nodes=None,\n                        min_impurity_decrease=0.0, min_impurity_split=None,\n                        min_samples_leaf=1, min_samples_split=2,\n                        min_weight_fraction_leaf=0.0, presort='deprecated',\n                        random_state=1278689984, splitter='best'),\n DecisionTreeClassifier(ccp_alpha=0.0, class_weight=None, criterion='gini',\n                        max_depth=None, max_features='auto', max_leaf_nodes=None,\n                        min_impurity_decrease=0.0, min_impurity_split=None,\n                        min_samples_leaf=1, min_samples_split=2,\n                        min_weight_fraction_leaf=0.0, presort='deprecated',\n                        random_state=2133059147, splitter='best'),\n DecisionTreeClassifier(ccp_alpha=0.0, class_weight=None, criterion='gini',\n                        max_depth=None, max_features='auto', max_leaf_nodes=None,\n                        min_impurity_decrease=0.0, min_impurity_split=None,\n                        min_samples_leaf=1, min_samples_split=2,\n                        min_weight_fraction_leaf=0.0, presort='deprecated',\n                        random_state=680630000, splitter='best'),\n DecisionTreeClassifier(ccp_alpha=0.0, class_weight=None, criterion='gini',\n                        max_depth=None, max_features='auto', max_leaf_nodes=None,\n                        min_impurity_decrease=0.0, min_impurity_split=None,\n                        min_samples_leaf=1, min_samples_split=2,\n                        min_weight_fraction_leaf=0.0, presort='deprecated',\n                        random_state=1367867599, splitter='best'),\n DecisionTreeClassifier(ccp_alpha=0.0, class_weight=None, criterion='gini',\n                        max_depth=None, max_features='auto', max_leaf_nodes=None,\n                        min_impurity_decrease=0.0, min_impurity_split=None,\n                        min_samples_leaf=1, min_samples_split=2,\n                        min_weight_fraction_leaf=0.0, presort='deprecated',\n                        random_state=1251511430, splitter='best'),\n DecisionTreeClassifier(ccp_alpha=0.0, class_weight=None, criterion='gini',\n                        max_depth=None, max_features='auto', max_leaf_nodes=None,\n                        min_impurity_decrease=0.0, min_impurity_split=None,\n                        min_samples_leaf=1, min_samples_split=2,\n                        min_weight_fraction_leaf=0.0, presort='deprecated',\n                        random_state=2084244828, splitter='best'),\n DecisionTreeClassifier(ccp_alpha=0.0, class_weight=None, criterion='gini',\n                        max_depth=None, max_features='auto', max_leaf_nodes=None,\n                        min_impurity_decrease=0.0, min_impurity_split=None,\n                        min_samples_leaf=1, min_samples_split=2,\n                        min_weight_fraction_leaf=0.0, presort='deprecated',\n                        random_state=1974218196, splitter='best'),\n DecisionTreeClassifier(ccp_alpha=0.0, class_weight=None, criterion='gini',\n                        max_depth=None, max_features='auto', max_leaf_nodes=None,\n                        min_impurity_decrease=0.0, min_impurity_split=None,\n                        min_samples_leaf=1, min_samples_split=2,\n                        min_weight_fraction_leaf=0.0, presort='deprecated',\n                        random_state=327979701, splitter='best'),\n DecisionTreeClassifier(ccp_alpha=0.0, class_weight=None, criterion='gini',\n                        max_depth=None, max_features='auto', max_leaf_nodes=None,\n                        min_impurity_decrease=0.0, min_impurity_split=None,\n                        min_samples_leaf=1, min_samples_split=2,\n                        min_weight_fraction_leaf=0.0, presort='deprecated',\n                        random_state=141191737, splitter='best'),\n DecisionTreeClassifier(ccp_alpha=0.0, class_weight=None, criterion='gini',\n                        max_depth=None, max_features='auto', max_leaf_nodes=None,\n                        min_impurity_decrease=0.0, min_impurity_split=None,\n                        min_samples_leaf=1, min_samples_split=2,\n                        min_weight_fraction_leaf=0.0, presort='deprecated',\n                        random_state=1847879961, splitter='best'),\n DecisionTreeClassifier(ccp_alpha=0.0, class_weight=None, criterion='gini',\n                        max_depth=None, max_features='auto', max_leaf_nodes=None,\n                        min_impurity_decrease=0.0, min_impurity_split=None,\n                        min_samples_leaf=1, min_samples_split=2,\n                        min_weight_fraction_leaf=0.0, presort='deprecated',\n                        random_state=904219593, splitter='best'),\n DecisionTreeClassifier(ccp_alpha=0.0, class_weight=None, criterion='gini',\n                        max_depth=None, max_features='auto', max_leaf_nodes=None,\n                        min_impurity_decrease=0.0, min_impurity_split=None,\n                        min_samples_leaf=1, min_samples_split=2,\n                        min_weight_fraction_leaf=0.0, presort='deprecated',\n                        random_state=1034398711, splitter='best'),\n DecisionTreeClassifier(ccp_alpha=0.0, class_weight=None, criterion='gini',\n                        max_depth=None, max_features='auto', max_leaf_nodes=None,\n                        min_impurity_decrease=0.0, min_impurity_split=None,\n                        min_samples_leaf=1, min_samples_split=2,\n                        min_weight_fraction_leaf=0.0, presort='deprecated',\n                        random_state=1975473780, splitter='best'),\n DecisionTreeClassifier(ccp_alpha=0.0, class_weight=None, criterion='gini',\n                        max_depth=None, max_features='auto', max_leaf_nodes=None,\n                        min_impurity_decrease=0.0, min_impurity_split=None,\n                        min_samples_leaf=1, min_samples_split=2,\n                        min_weight_fraction_leaf=0.0, presort='deprecated',\n                        random_state=481859122, splitter='best'),\n DecisionTreeClassifier(ccp_alpha=0.0, class_weight=None, criterion='gini',\n                        max_depth=None, max_features='auto', max_leaf_nodes=None,\n                        min_impurity_decrease=0.0, min_impurity_split=None,\n                        min_samples_leaf=1, min_samples_split=2,\n                        min_weight_fraction_leaf=0.0, presort='deprecated',\n                        random_state=1618656024, splitter='best'),\n DecisionTreeClassifier(ccp_alpha=0.0, class_weight=None, criterion='gini',\n                        max_depth=None, max_features='auto', max_leaf_nodes=None,\n                        min_impurity_decrease=0.0, min_impurity_split=None,\n                        min_samples_leaf=1, min_samples_split=2,\n                        min_weight_fraction_leaf=0.0, presort='deprecated',\n                        random_state=1413334732, splitter='best'),\n DecisionTreeClassifier(ccp_alpha=0.0, class_weight=None, criterion='gini',\n                        max_depth=None, max_features='auto', max_leaf_nodes=None,\n                        min_impurity_decrease=0.0, min_impurity_split=None,\n                        min_samples_leaf=1, min_samples_split=2,\n                        min_weight_fraction_leaf=0.0, presort='deprecated',\n                        random_state=1495919191, splitter='best'),\n DecisionTreeClassifier(ccp_alpha=0.0, class_weight=None, criterion='gini',\n                        max_depth=None, max_features='auto', max_leaf_nodes=None,\n                        min_impurity_decrease=0.0, min_impurity_split=None,\n                        min_samples_leaf=1, min_samples_split=2,\n                        min_weight_fraction_leaf=0.0, presort='deprecated',\n                        random_state=889389478, splitter='best'),\n DecisionTreeClassifier(ccp_alpha=0.0, class_weight=None, criterion='gini',\n                        max_depth=None, max_features='auto', max_leaf_nodes=None,\n                        min_impurity_decrease=0.0, min_impurity_split=None,\n                        min_samples_leaf=1, min_samples_split=2,\n                        min_weight_fraction_leaf=0.0, presort='deprecated',\n                        random_state=2111342605, splitter='best'),\n DecisionTreeClassifier(ccp_alpha=0.0, class_weight=None, criterion='gini',\n                        max_depth=None, max_features='auto', max_leaf_nodes=None,\n                        min_impurity_decrease=0.0, min_impurity_split=None,\n                        min_samples_leaf=1, min_samples_split=2,\n                        min_weight_fraction_leaf=0.0, presort='deprecated',\n                        random_state=1103544902, splitter='best'),\n DecisionTreeClassifier(ccp_alpha=0.0, class_weight=None, criterion='gini',\n                        max_depth=None, max_features='auto', max_leaf_nodes=None,\n                        min_impurity_decrease=0.0, min_impurity_split=None,\n                        min_samples_leaf=1, min_samples_split=2,\n                        min_weight_fraction_leaf=0.0, presort='deprecated',\n                        random_state=1644311782, splitter='best'),\n DecisionTreeClassifier(ccp_alpha=0.0, class_weight=None, criterion='gini',\n                        max_depth=None, max_features='auto', max_leaf_nodes=None,\n                        min_impurity_decrease=0.0, min_impurity_split=None,\n                        min_samples_leaf=1, min_samples_split=2,\n                        min_weight_fraction_leaf=0.0, presort='deprecated',\n                        random_state=850607049, splitter='best'),\n DecisionTreeClassifier(ccp_alpha=0.0, class_weight=None, criterion='gini',\n                        max_depth=None, max_features='auto', max_leaf_nodes=None,\n                        min_impurity_decrease=0.0, min_impurity_split=None,\n                        min_samples_leaf=1, min_samples_split=2,\n                        min_weight_fraction_leaf=0.0, presort='deprecated',\n                        random_state=1731531643, splitter='best'),\n DecisionTreeClassifier(ccp_alpha=0.0, class_weight=None, criterion='gini',\n                        max_depth=None, max_features='auto', max_leaf_nodes=None,\n                        min_impurity_decrease=0.0, min_impurity_split=None,\n                        min_samples_leaf=1, min_samples_split=2,\n                        min_weight_fraction_leaf=0.0, presort='deprecated',\n                        random_state=58763536, splitter='best'),\n DecisionTreeClassifier(ccp_alpha=0.0, class_weight=None, criterion='gini',\n                        max_depth=None, max_features='auto', max_leaf_nodes=None,\n                        min_impurity_decrease=0.0, min_impurity_split=None,\n                        min_samples_leaf=1, min_samples_split=2,\n                        min_weight_fraction_leaf=0.0, presort='deprecated',\n                        random_state=663846149, splitter='best'),\n DecisionTreeClassifier(ccp_alpha=0.0, class_weight=None, criterion='gini',\n                        max_depth=None, max_features='auto', max_leaf_nodes=None,\n                        min_impurity_decrease=0.0, min_impurity_split=None,\n                        min_samples_leaf=1, min_samples_split=2,\n                        min_weight_fraction_leaf=0.0, presort='deprecated',\n                        random_state=1318587069, splitter='best'),\n DecisionTreeClassifier(ccp_alpha=0.0, class_weight=None, criterion='gini',\n                        max_depth=None, max_features='auto', max_leaf_nodes=None,\n                        min_impurity_decrease=0.0, min_impurity_split=None,\n                        min_samples_leaf=1, min_samples_split=2,\n                        min_weight_fraction_leaf=0.0, presort='deprecated',\n                        random_state=644098156, splitter='best'),\n DecisionTreeClassifier(ccp_alpha=0.0, class_weight=None, criterion='gini',\n                        max_depth=None, max_features='auto', max_leaf_nodes=None,\n                        min_impurity_decrease=0.0, min_impurity_split=None,\n                        min_samples_leaf=1, min_samples_split=2,\n                        min_weight_fraction_leaf=0.0, presort='deprecated',\n                        random_state=801379154, splitter='best'),\n DecisionTreeClassifier(ccp_alpha=0.0, class_weight=None, criterion='gini',\n                        max_depth=None, max_features='auto', max_leaf_nodes=None,\n                        min_impurity_decrease=0.0, min_impurity_split=None,\n                        min_samples_leaf=1, min_samples_split=2,\n                        min_weight_fraction_leaf=0.0, presort='deprecated',\n                        random_state=1045563817, splitter='best'),\n DecisionTreeClassifier(ccp_alpha=0.0, class_weight=None, criterion='gini',\n                        max_depth=None, max_features='auto', max_leaf_nodes=None,\n                        min_impurity_decrease=0.0, min_impurity_split=None,\n                        min_samples_leaf=1, min_samples_split=2,\n                        min_weight_fraction_leaf=0.0, presort='deprecated',\n                        random_state=1452790087, splitter='best'),\n DecisionTreeClassifier(ccp_alpha=0.0, class_weight=None, criterion='gini',\n                        max_depth=None, max_features='auto', max_leaf_nodes=None,\n                        min_impurity_decrease=0.0, min_impurity_split=None,\n                        min_samples_leaf=1, min_samples_split=2,\n                        min_weight_fraction_leaf=0.0, presort='deprecated',\n                        random_state=603901756, splitter='best'),\n DecisionTreeClassifier(ccp_alpha=0.0, class_weight=None, criterion='gini',\n                        max_depth=None, max_features='auto', max_leaf_nodes=None,\n                        min_impurity_decrease=0.0, min_impurity_split=None,\n                        min_samples_leaf=1, min_samples_split=2,\n                        min_weight_fraction_leaf=0.0, presort='deprecated',\n                        random_state=793302471, splitter='best')]"
     },
     "execution_count": 26,
     "metadata": {},
     "output_type": "execute_result"
    }
   ],
   "source": [
    "model.estimators_"
   ],
   "metadata": {
    "collapsed": false,
    "pycharm": {
     "name": "#%%\n"
    }
   }
  },
  {
   "cell_type": "markdown",
   "source": [
    "交叉验证"
   ],
   "metadata": {
    "collapsed": false,
    "pycharm": {
     "name": "#%% md\n"
    }
   }
  },
  {
   "cell_type": "code",
   "execution_count": 34,
   "outputs": [],
   "source": [
    "n_estimators = range(80, 130)"
   ],
   "metadata": {
    "collapsed": false,
    "pycharm": {
     "name": "#%%\n"
    }
   }
  },
  {
   "cell_type": "code",
   "execution_count": 35,
   "outputs": [],
   "source": [
    "param_grid = {'n_estimators':n_estimators}"
   ],
   "metadata": {
    "collapsed": false,
    "pycharm": {
     "name": "#%%\n"
    }
   }
  },
  {
   "cell_type": "code",
   "execution_count": 36,
   "outputs": [],
   "source": [
    "model = GridSearchCV(RandomForestClassifier(), param_grid, cv=5)"
   ],
   "metadata": {
    "collapsed": false,
    "pycharm": {
     "name": "#%%\n"
    }
   }
  },
  {
   "cell_type": "code",
   "execution_count": 37,
   "outputs": [
    {
     "data": {
      "text/plain": "GridSearchCV(cv=5, error_score=nan,\n             estimator=RandomForestClassifier(bootstrap=True, ccp_alpha=0.0,\n                                              class_weight=None,\n                                              criterion='gini', max_depth=None,\n                                              max_features='auto',\n                                              max_leaf_nodes=None,\n                                              max_samples=None,\n                                              min_impurity_decrease=0.0,\n                                              min_impurity_split=None,\n                                              min_samples_leaf=1,\n                                              min_samples_split=2,\n                                              min_weight_fraction_leaf=0.0,\n                                              n_estimators=100, n_jobs=None,\n                                              oob_score=False,\n                                              random_state=None, verbose=0,\n                                              warm_start=False),\n             iid='deprecated', n_jobs=None,\n             param_grid={'n_estimators': range(80, 130)},\n             pre_dispatch='2*n_jobs', refit=True, return_train_score=False,\n             scoring=None, verbose=0)"
     },
     "execution_count": 37,
     "metadata": {},
     "output_type": "execute_result"
    }
   ],
   "source": [
    "model.fit(data_train, data_target.ravel())"
   ],
   "metadata": {
    "collapsed": false,
    "pycharm": {
     "name": "#%%\n"
    }
   }
  },
  {
   "cell_type": "code",
   "execution_count": 38,
   "outputs": [
    {
     "data": {
      "text/plain": "{'n_estimators': 96}"
     },
     "execution_count": 38,
     "metadata": {},
     "output_type": "execute_result"
    }
   ],
   "source": [
    "model.best_params_"
   ],
   "metadata": {
    "collapsed": false,
    "pycharm": {
     "name": "#%%\n"
    }
   }
  },
  {
   "cell_type": "code",
   "execution_count": 39,
   "outputs": [
    {
     "data": {
      "text/plain": "0.8215680120519743"
     },
     "execution_count": 39,
     "metadata": {},
     "output_type": "execute_result"
    }
   ],
   "source": [
    "model.best_score_"
   ],
   "metadata": {
    "collapsed": false,
    "pycharm": {
     "name": "#%%\n"
    }
   }
  },
  {
   "cell_type": "code",
   "execution_count": null,
   "outputs": [],
   "source": [
    "\n"
   ],
   "metadata": {
    "collapsed": false,
    "pycharm": {
     "name": "#%%\n"
    }
   }
  }
 ],
 "metadata": {
  "kernelspec": {
   "display_name": "Python 3",
   "language": "python",
   "name": "python3"
  },
  "language_info": {
   "codemirror_mode": {
    "name": "ipython",
    "version": 2
   },
   "file_extension": ".py",
   "mimetype": "text/x-python",
   "name": "python",
   "nbconvert_exporter": "python",
   "pygments_lexer": "ipython2",
   "version": "2.7.6"
  }
 },
 "nbformat": 4,
 "nbformat_minor": 0
}