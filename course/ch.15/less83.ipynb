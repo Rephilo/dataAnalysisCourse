{
 "cells": [
  {
   "cell_type": "code",
   "execution_count": 4,
   "metadata": {
    "collapsed": true
   },
   "outputs": [],
   "source": [
    "import pandas as pd\n",
    "import numpy as np\n",
    "from sklearn.metrics.pairwise import cosine_similarity"
   ]
  },
  {
   "cell_type": "code",
   "execution_count": 2,
   "outputs": [],
   "source": [
    "# ABCD用户对1-7商品的评价\n",
    "data = pd.DataFrame({\n",
    "    'one': [4, np.nan, 2, np.nan],\n",
    "    'two': [np.nan, 4, np.nan, 5],\n",
    "    'three': [5, np.nan, 2, np.nan],\n",
    "    'four': [3, 4, np.nan, 3],\n",
    "    'five': [5, np.nan, 1, np.nan],\n",
    "    'six': [np.nan, 5, np.nan, 5],\n",
    "    'seven': [np.nan, np.nan, np.nan, 4]\n",
    "},\n",
    "index=list('ABCD'))"
   ],
   "metadata": {
    "collapsed": false,
    "pycharm": {
     "name": "#%%\n"
    }
   }
  },
  {
   "cell_type": "code",
   "execution_count": 3,
   "outputs": [
    {
     "data": {
      "text/plain": "   one  two  three  four  five  six  seven\nA  4.0  NaN    5.0   3.0   5.0  NaN    NaN\nB  NaN  4.0    NaN   4.0   NaN  5.0    NaN\nC  2.0  NaN    2.0   NaN   1.0  NaN    NaN\nD  NaN  5.0    NaN   3.0   NaN  5.0    4.0",
      "text/html": "<div>\n<style scoped>\n    .dataframe tbody tr th:only-of-type {\n        vertical-align: middle;\n    }\n\n    .dataframe tbody tr th {\n        vertical-align: top;\n    }\n\n    .dataframe thead th {\n        text-align: right;\n    }\n</style>\n<table border=\"1\" class=\"dataframe\">\n  <thead>\n    <tr style=\"text-align: right;\">\n      <th></th>\n      <th>one</th>\n      <th>two</th>\n      <th>three</th>\n      <th>four</th>\n      <th>five</th>\n      <th>six</th>\n      <th>seven</th>\n    </tr>\n  </thead>\n  <tbody>\n    <tr>\n      <th>A</th>\n      <td>4.0</td>\n      <td>NaN</td>\n      <td>5.0</td>\n      <td>3.0</td>\n      <td>5.0</td>\n      <td>NaN</td>\n      <td>NaN</td>\n    </tr>\n    <tr>\n      <th>B</th>\n      <td>NaN</td>\n      <td>4.0</td>\n      <td>NaN</td>\n      <td>4.0</td>\n      <td>NaN</td>\n      <td>5.0</td>\n      <td>NaN</td>\n    </tr>\n    <tr>\n      <th>C</th>\n      <td>2.0</td>\n      <td>NaN</td>\n      <td>2.0</td>\n      <td>NaN</td>\n      <td>1.0</td>\n      <td>NaN</td>\n      <td>NaN</td>\n    </tr>\n    <tr>\n      <th>D</th>\n      <td>NaN</td>\n      <td>5.0</td>\n      <td>NaN</td>\n      <td>3.0</td>\n      <td>NaN</td>\n      <td>5.0</td>\n      <td>4.0</td>\n    </tr>\n  </tbody>\n</table>\n</div>"
     },
     "execution_count": 3,
     "metadata": {},
     "output_type": "execute_result"
    }
   ],
   "source": [
    "data"
   ],
   "metadata": {
    "collapsed": false,
    "pycharm": {
     "name": "#%%\n"
    }
   }
  },
  {
   "cell_type": "markdown",
   "source": [
    "寻找A最相似的其他顾客\n",
    "\n",
    "预测A对two商品的平分，从而做出是否推荐判断\n"
   ],
   "metadata": {
    "collapsed": false,
    "pycharm": {
     "name": "#%% md\n"
    }
   }
  },
  {
   "cell_type": "code",
   "execution_count": 7,
   "outputs": [],
   "source": [
    "# 共同商品打分相似，但相似度低\n",
    "sim_AB = cosine_similarity(data.loc['A',:].fillna(0).values.reshape(1, -1),\n",
    "                           data.loc['B',:].fillna(0).values.reshape(1, -1))"
   ],
   "metadata": {
    "collapsed": false,
    "pycharm": {
     "name": "#%%\n"
    }
   }
  },
  {
   "cell_type": "code",
   "execution_count": 8,
   "outputs": [],
   "source": [
    "# 评价两极分化，但是相似度高\n",
    "sim_AC = cosine_similarity(data.loc['A',:].fillna(0).values.reshape(1, -1),\n",
    "                           data.loc['C',:].fillna(0).values.reshape(1, -1))\n"
   ],
   "metadata": {
    "collapsed": false,
    "pycharm": {
     "name": "#%%\n"
    }
   }
  },
  {
   "cell_type": "markdown",
   "source": [
    "去中心化，处理nan值\n",
    "\n",
    "每个用户评分减去自己那一行的均值，再填充0"
   ],
   "metadata": {
    "collapsed": false,
    "pycharm": {
     "name": "#%% md\n"
    }
   }
  },
  {
   "cell_type": "code",
   "execution_count": 10,
   "outputs": [],
   "source": [
    "data_center = data.apply(lambda x: x-x.mean(),\n",
    "           axis=1)"
   ],
   "metadata": {
    "collapsed": false,
    "pycharm": {
     "name": "#%%\n"
    }
   }
  },
  {
   "cell_type": "code",
   "execution_count": 11,
   "outputs": [],
   "source": [
    "sim_AB = cosine_similarity(data_center.loc['A',:].fillna(0).values.reshape(1, -1),\n",
    "                           data_center.loc['B',:].fillna(0).values.reshape(1, -1))\n"
   ],
   "metadata": {
    "collapsed": false,
    "pycharm": {
     "name": "#%%\n"
    }
   }
  },
  {
   "cell_type": "code",
   "execution_count": 12,
   "outputs": [],
   "source": [
    "sim_AC = cosine_similarity(data_center.loc['A',:].fillna(0).values.reshape(1, -1),\n",
    "                           data_center.loc['C',:].fillna(0).values.reshape(1, -1))\n"
   ],
   "metadata": {
    "collapsed": false,
    "pycharm": {
     "name": "#%%\n"
    }
   }
  },
  {
   "cell_type": "code",
   "execution_count": 13,
   "outputs": [],
   "source": [
    "sim_AD = cosine_similarity(data_center.loc['A',:].fillna(0).values.reshape(1, -1),\n",
    "                           data_center.loc['D',:].fillna(0).values.reshape(1, -1))\n"
   ],
   "metadata": {
    "collapsed": false,
    "pycharm": {
     "name": "#%%\n"
    }
   }
  },
  {
   "cell_type": "code",
   "execution_count": 15,
   "outputs": [
    {
     "data": {
      "text/plain": "array([[4.64867562]])"
     },
     "execution_count": 15,
     "metadata": {},
     "output_type": "execute_result"
    }
   ],
   "source": [
    "(sim_AD * data.loc['D', 'two'] + sim_AB * data.loc['B', 'two']) / (sim_AD + sim_AB)"
   ],
   "metadata": {
    "collapsed": false,
    "pycharm": {
     "name": "#%%\n"
    }
   }
  },
  {
   "cell_type": "code",
   "execution_count": null,
   "outputs": [],
   "source": [
    "\n"
   ],
   "metadata": {
    "collapsed": false,
    "pycharm": {
     "name": "#%%\n"
    }
   }
  }
 ],
 "metadata": {
  "kernelspec": {
   "display_name": "Python 3",
   "language": "python",
   "name": "python3"
  },
  "language_info": {
   "codemirror_mode": {
    "name": "ipython",
    "version": 2
   },
   "file_extension": ".py",
   "mimetype": "text/x-python",
   "name": "python",
   "nbconvert_exporter": "python",
   "pygments_lexer": "ipython2",
   "version": "2.7.6"
  }
 },
 "nbformat": 4,
 "nbformat_minor": 0
}