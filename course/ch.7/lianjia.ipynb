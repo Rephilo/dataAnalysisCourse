{
 "cells": [
  {
   "cell_type": "code",
   "execution_count": 1,
   "metadata": {
    "collapsed": true,
    "pycharm": {
     "is_executing": false
    }
   },
   "outputs": [],
   "source": [
    "import pandas as pd\n",
    "import numpy as np\n",
    "import matplotlib.pyplot as plt\n",
    "%matplotlib inline"
   ]
  },
  {
   "cell_type": "code",
   "execution_count": 6,
   "outputs": [],
   "source": [
    "data_list = []\n",
    "for i in range(1,8):\n",
    "    try:\n",
    "        data = pd.read_csv('./fangchan/lianjia{}.csv'.format(i), encoding='gbk')\n",
    "    except:\n",
    "        data = pd.read_csv('./fangchan/lianjia{}.csv'.format(i))\n",
    "    finally:\n",
    "        data_list.append(data)"
   ],
   "metadata": {
    "collapsed": false,
    "pycharm": {
     "name": "#%%\n",
     "is_executing": false
    }
   }
  },
  {
   "cell_type": "code",
   "execution_count": 8,
   "outputs": [
    {
     "data": {
      "text/plain": "7"
     },
     "metadata": {},
     "output_type": "execute_result",
     "execution_count": 8
    }
   ],
   "source": [
    "len(data_list)"
   ],
   "metadata": {
    "collapsed": false,
    "pycharm": {
     "name": "#%%\n",
     "is_executing": false
    }
   }
  },
  {
   "cell_type": "code",
   "execution_count": 10,
   "outputs": [],
   "source": [
    "data = pd.concat(data_list)"
   ],
   "metadata": {
    "collapsed": false,
    "pycharm": {
     "name": "#%%\n",
     "is_executing": false
    }
   }
  },
  {
   "cell_type": "code",
   "execution_count": 12,
   "outputs": [
    {
     "data": {
      "text/plain": "   cjtaoshu mendian  cjzongjia zhiwei  haoping  cjdanjia         cjxiaoqu  \\\n0        37   红莲北里店      251.0    店经理  97% 141  43997元/平    红莲北里 3室1厅 57平   \n1        37   红莲北里店      159.0    店经理  97% 141  36969元/平    红莲南里 1室1厅 43平   \n2        37   红莲北里店      257.0    店经理  97% 141  39046元/平   常青藤嘉园 1室1厅 65平   \n3        37   红莲北里店      243.0    店经理  97% 141  41313元/平    红莲北里 2室1厅 58平   \n4        37   红莲北里店      372.5    店经理  97% 141  42053元/平  广安门外大街 3室1厅 88平   \n\n  xingming cjzhouqi        biaoqian        cjlouceng        cjshijian  \\\n0      郭海龙       36  房东信赖;销售达人;带看活跃       南 北/高楼层/6层  签约时间：2015-05-24   \n1      郭海龙       36  房东信赖;销售达人;带看活跃         南/高楼层/7层  签约时间：2015-05-10   \n2      郭海龙       36  房东信赖;销售达人;带看活跃        北/低楼层/16层  签约时间：2015-04-26   \n3      郭海龙       36  房东信赖;销售达人;带看活跃       南 北/高楼层/6层  签约时间：2015-04-04   \n4      郭海龙       36  房东信赖;销售达人;带看活跃  东 南 西 北/中楼层/18层  签约时间：2015-04-01   \n\n  congyenianxian bankuai  \n0           4-5年     马连道  \n1           4-5年     马连道  \n2           4-5年     马连道  \n3           4-5年     马连道  \n4           4-5年     马连道  ",
      "text/html": "<div>\n<style scoped>\n    .dataframe tbody tr th:only-of-type {\n        vertical-align: middle;\n    }\n\n    .dataframe tbody tr th {\n        vertical-align: top;\n    }\n\n    .dataframe thead th {\n        text-align: right;\n    }\n</style>\n<table border=\"1\" class=\"dataframe\">\n  <thead>\n    <tr style=\"text-align: right;\">\n      <th></th>\n      <th>cjtaoshu</th>\n      <th>mendian</th>\n      <th>cjzongjia</th>\n      <th>zhiwei</th>\n      <th>haoping</th>\n      <th>cjdanjia</th>\n      <th>cjxiaoqu</th>\n      <th>xingming</th>\n      <th>cjzhouqi</th>\n      <th>biaoqian</th>\n      <th>cjlouceng</th>\n      <th>cjshijian</th>\n      <th>congyenianxian</th>\n      <th>bankuai</th>\n    </tr>\n  </thead>\n  <tbody>\n    <tr>\n      <th>0</th>\n      <td>37</td>\n      <td>红莲北里店</td>\n      <td>251.0</td>\n      <td>店经理</td>\n      <td>97% 141</td>\n      <td>43997元/平</td>\n      <td>红莲北里 3室1厅 57平</td>\n      <td>郭海龙</td>\n      <td>36</td>\n      <td>房东信赖;销售达人;带看活跃</td>\n      <td>南 北/高楼层/6层</td>\n      <td>签约时间：2015-05-24</td>\n      <td>4-5年</td>\n      <td>马连道</td>\n    </tr>\n    <tr>\n      <th>1</th>\n      <td>37</td>\n      <td>红莲北里店</td>\n      <td>159.0</td>\n      <td>店经理</td>\n      <td>97% 141</td>\n      <td>36969元/平</td>\n      <td>红莲南里 1室1厅 43平</td>\n      <td>郭海龙</td>\n      <td>36</td>\n      <td>房东信赖;销售达人;带看活跃</td>\n      <td>南/高楼层/7层</td>\n      <td>签约时间：2015-05-10</td>\n      <td>4-5年</td>\n      <td>马连道</td>\n    </tr>\n    <tr>\n      <th>2</th>\n      <td>37</td>\n      <td>红莲北里店</td>\n      <td>257.0</td>\n      <td>店经理</td>\n      <td>97% 141</td>\n      <td>39046元/平</td>\n      <td>常青藤嘉园 1室1厅 65平</td>\n      <td>郭海龙</td>\n      <td>36</td>\n      <td>房东信赖;销售达人;带看活跃</td>\n      <td>北/低楼层/16层</td>\n      <td>签约时间：2015-04-26</td>\n      <td>4-5年</td>\n      <td>马连道</td>\n    </tr>\n    <tr>\n      <th>3</th>\n      <td>37</td>\n      <td>红莲北里店</td>\n      <td>243.0</td>\n      <td>店经理</td>\n      <td>97% 141</td>\n      <td>41313元/平</td>\n      <td>红莲北里 2室1厅 58平</td>\n      <td>郭海龙</td>\n      <td>36</td>\n      <td>房东信赖;销售达人;带看活跃</td>\n      <td>南 北/高楼层/6层</td>\n      <td>签约时间：2015-04-04</td>\n      <td>4-5年</td>\n      <td>马连道</td>\n    </tr>\n    <tr>\n      <th>4</th>\n      <td>37</td>\n      <td>红莲北里店</td>\n      <td>372.5</td>\n      <td>店经理</td>\n      <td>97% 141</td>\n      <td>42053元/平</td>\n      <td>广安门外大街 3室1厅 88平</td>\n      <td>郭海龙</td>\n      <td>36</td>\n      <td>房东信赖;销售达人;带看活跃</td>\n      <td>东 南 西 北/中楼层/18层</td>\n      <td>签约时间：2015-04-01</td>\n      <td>4-5年</td>\n      <td>马连道</td>\n    </tr>\n  </tbody>\n</table>\n</div>"
     },
     "metadata": {},
     "output_type": "execute_result",
     "execution_count": 12
    }
   ],
   "source": [
    "data.head()\n"
   ],
   "metadata": {
    "collapsed": false,
    "pycharm": {
     "name": "#%%\n",
     "is_executing": false
    }
   }
  }
 ],
 "metadata": {
  "kernelspec": {
   "display_name": "Python 3",
   "language": "python",
   "name": "python3"
  },
  "language_info": {
   "codemirror_mode": {
    "name": "ipython",
    "version": 2
   },
   "file_extension": ".py",
   "mimetype": "text/x-python",
   "name": "python",
   "nbconvert_exporter": "python",
   "pygments_lexer": "ipython2",
   "version": "2.7.6"
  },
  "pycharm": {
   "stem_cell": {
    "cell_type": "raw",
    "source": [],
    "metadata": {
     "collapsed": false
    }
   }
  }
 },
 "nbformat": 4,
 "nbformat_minor": 0
}