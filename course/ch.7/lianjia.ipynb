{
 "cells" : [
  {
   "cell_type" : "code",
   "execution_count" : 41,
   "metadata" : {
    "collapsed" : true,
    "pycharm" : {
     "is_executing" : false
    }
   },
   "outputs" : [ ],
   "source" : [
    "import pandas as pd\n",
    "import numpy as np\n",
    "import matplotlib.pyplot as plt\n",
    "%matplotlib inline"
   ]
  },
  {
   "cell_type" : "code",
   "execution_count" : 42,
   "outputs" : [ ],
   "source" : [
    "data_list = []\n",
    "for i in range(1,8):\n",
    "    try:\n",
    "        data = pd.read_csv('./fangchan/lianjia{}.csv'.format(i), encoding='gbk')\n",
    "    except:\n",
    "        data = pd.read_csv('./fangchan/lianjia{}.csv'.format(i))\n",
    "    finally:\n",
    "        data_list.append(data)"
   ],
   "metadata" : {
    "collapsed" : false,
    "pycharm" : {
     "name" : "#%%\n",
     "is_executing" : false
    }
   }
  },
  {
   "cell_type" : "code",
   "execution_count" : 43,
   "outputs" : [
    {
     "data" : {
      "text/plain" : "7"
     },
     "metadata" : { },
     "output_type" : "execute_result",
     "execution_count" : 43
    }
   ],
   "source" : [
    "len(data_list)"
   ],
   "metadata" : {
    "collapsed" : false,
    "pycharm" : {
     "name" : "#%%\n",
     "is_executing" : false
    }
   }
  },
  {
   "cell_type" : "code",
   "execution_count" : 44,
   "outputs" : [ ],
   "source" : [
    "data = pd.concat(data_list)"
   ],
   "metadata" : {
    "collapsed" : false,
    "pycharm" : {
     "name" : "#%%\n",
     "is_executing" : false
    }
   }
  },
  {
   "cell_type" : "code",
   "execution_count" : 45,
   "outputs" : [
    {
     "data" : {
      "text/plain" : "   cjtaoshu mendian  cjzongjia zhiwei  haoping  cjdanjia         cjxiaoqu  \\\n0        37   红莲北里店      251.0    店经理  97% 141  43997元/平    红莲北里 3室1厅 57平   \n1        37   红莲北里店      159.0    店经理  97% 141  36969元/平    红莲南里 1室1厅 43平   \n2        37   红莲北里店      257.0    店经理  97% 141  39046元/平   常青藤嘉园 1室1厅 65平   \n3        37   红莲北里店      243.0    店经理  97% 141  41313元/平    红莲北里 2室1厅 58平   \n4        37   红莲北里店      372.5    店经理  97% 141  42053元/平  广安门外大街 3室1厅 88平   \n\n  xingming cjzhouqi        biaoqian        cjlouceng        cjshijian  \\\n0      郭海龙       36  房东信赖;销售达人;带看活跃       南 北/高楼层/6层  签约时间：2015-05-24   \n1      郭海龙       36  房东信赖;销售达人;带看活跃         南/高楼层/7层  签约时间：2015-05-10   \n2      郭海龙       36  房东信赖;销售达人;带看活跃        北/低楼层/16层  签约时间：2015-04-26   \n3      郭海龙       36  房东信赖;销售达人;带看活跃       南 北/高楼层/6层  签约时间：2015-04-04   \n4      郭海龙       36  房东信赖;销售达人;带看活跃  东 南 西 北/中楼层/18层  签约时间：2015-04-01   \n\n  congyenianxian bankuai  \n0           4-5年     马连道  \n1           4-5年     马连道  \n2           4-5年     马连道  \n3           4-5年     马连道  \n4           4-5年     马连道  ",
      "text/html" : "<div>\n<style scoped>\n    .dataframe tbody tr th:only-of-type {\n        vertical-align: middle;\n    }\n\n    .dataframe tbody tr th {\n        vertical-align: top;\n    }\n\n    .dataframe thead th {\n        text-align: right;\n    }\n</style>\n<table border=\"1\" class=\"dataframe\">\n  <thead>\n    <tr style=\"text-align: right;\">\n      <th></th>\n      <th>cjtaoshu</th>\n      <th>mendian</th>\n      <th>cjzongjia</th>\n      <th>zhiwei</th>\n      <th>haoping</th>\n      <th>cjdanjia</th>\n      <th>cjxiaoqu</th>\n      <th>xingming</th>\n      <th>cjzhouqi</th>\n      <th>biaoqian</th>\n      <th>cjlouceng</th>\n      <th>cjshijian</th>\n      <th>congyenianxian</th>\n      <th>bankuai</th>\n    </tr>\n  </thead>\n  <tbody>\n    <tr>\n      <th>0</th>\n      <td>37</td>\n      <td>红莲北里店</td>\n      <td>251.0</td>\n      <td>店经理</td>\n      <td>97% 141</td>\n      <td>43997元/平</td>\n      <td>红莲北里 3室1厅 57平</td>\n      <td>郭海龙</td>\n      <td>36</td>\n      <td>房东信赖;销售达人;带看活跃</td>\n      <td>南 北/高楼层/6层</td>\n      <td>签约时间：2015-05-24</td>\n      <td>4-5年</td>\n      <td>马连道</td>\n    </tr>\n    <tr>\n      <th>1</th>\n      <td>37</td>\n      <td>红莲北里店</td>\n      <td>159.0</td>\n      <td>店经理</td>\n      <td>97% 141</td>\n      <td>36969元/平</td>\n      <td>红莲南里 1室1厅 43平</td>\n      <td>郭海龙</td>\n      <td>36</td>\n      <td>房东信赖;销售达人;带看活跃</td>\n      <td>南/高楼层/7层</td>\n      <td>签约时间：2015-05-10</td>\n      <td>4-5年</td>\n      <td>马连道</td>\n    </tr>\n    <tr>\n      <th>2</th>\n      <td>37</td>\n      <td>红莲北里店</td>\n      <td>257.0</td>\n      <td>店经理</td>\n      <td>97% 141</td>\n      <td>39046元/平</td>\n      <td>常青藤嘉园 1室1厅 65平</td>\n      <td>郭海龙</td>\n      <td>36</td>\n      <td>房东信赖;销售达人;带看活跃</td>\n      <td>北/低楼层/16层</td>\n      <td>签约时间：2015-04-26</td>\n      <td>4-5年</td>\n      <td>马连道</td>\n    </tr>\n    <tr>\n      <th>3</th>\n      <td>37</td>\n      <td>红莲北里店</td>\n      <td>243.0</td>\n      <td>店经理</td>\n      <td>97% 141</td>\n      <td>41313元/平</td>\n      <td>红莲北里 2室1厅 58平</td>\n      <td>郭海龙</td>\n      <td>36</td>\n      <td>房东信赖;销售达人;带看活跃</td>\n      <td>南 北/高楼层/6层</td>\n      <td>签约时间：2015-04-04</td>\n      <td>4-5年</td>\n      <td>马连道</td>\n    </tr>\n    <tr>\n      <th>4</th>\n      <td>37</td>\n      <td>红莲北里店</td>\n      <td>372.5</td>\n      <td>店经理</td>\n      <td>97% 141</td>\n      <td>42053元/平</td>\n      <td>广安门外大街 3室1厅 88平</td>\n      <td>郭海龙</td>\n      <td>36</td>\n      <td>房东信赖;销售达人;带看活跃</td>\n      <td>东 南 西 北/中楼层/18层</td>\n      <td>签约时间：2015-04-01</td>\n      <td>4-5年</td>\n      <td>马连道</td>\n    </tr>\n  </tbody>\n</table>\n</div>"
     },
     "metadata" : { },
     "output_type" : "execute_result",
     "execution_count" : 45
    }
   ],
   "source" : [
    "data.head()"
   ],
   "metadata" : {
    "collapsed" : false,
    "pycharm" : {
     "name" : "#%%\n",
     "is_executing" : false
    }
   }
  },
  {
   "cell_type" : "code",
   "execution_count" : 46,
   "outputs" : [
    {
     "name" : "stdout",
     "text" : [
      "<class 'pandas.core.frame.DataFrame'>\n",
      "Int64Index: 162227 entries, 0 to 6680\n",
      "Data columns (total 14 columns):\n",
      " #   Column          Non-Null Count   Dtype  \n",
      "---  ------          --------------   -----  \n",
      " 0   cjtaoshu        162227 non-null  int64  \n",
      " 1   mendian         162214 non-null  object \n",
      " 2   cjzongjia       162226 non-null  float64\n",
      " 3   zhiwei          162226 non-null  object \n",
      " 4   haoping         162226 non-null  object \n",
      " 5   cjdanjia        162226 non-null  object \n",
      " 6   cjxiaoqu        162226 non-null  object \n",
      " 7   xingming        162226 non-null  object \n",
      " 8   cjzhouqi        162226 non-null  object \n",
      " 9   biaoqian        145553 non-null  object \n",
      " 10  cjlouceng       162226 non-null  object \n",
      " 11  cjshijian       162226 non-null  object \n",
      " 12  congyenianxian  162226 non-null  object \n",
      " 13  bankuai         160906 non-null  object \n",
      "dtypes: float64(1), int64(1), object(12)\n",
      "memory usage: 18.6+ MB\n"
     ],
     "output_type" : "stream"
    }
   ],
   "source" : [
    "data.info()"
   ],
   "metadata" : {
    "collapsed" : false,
    "pycharm" : {
     "name" : "#%%\n",
     "is_executing" : false
    }
   }
  },
  {
   "cell_type" : "code",
   "execution_count" : 47,
   "outputs" : [ ],
   "source" : [
    "dj = data.cjdanjia.dropna().map(lambda x: round(float(x.replace('元/平',''))/10000, 1))"
   ],
   "metadata" : {
    "collapsed" : false,
    "pycharm" : {
     "name" : "#%%\n",
     "is_executing" : false
    }
   }
  },
  {
   "cell_type" : "code",
   "execution_count" : 48,
   "outputs" : [
    {
     "data" : {
      "text/plain" : "15.0"
     },
     "metadata" : { },
     "output_type" : "execute_result",
     "execution_count" : 48
    }
   ],
   "source" : [
    "dj.max()"
   ],
   "metadata" : {
    "collapsed" : false,
    "pycharm" : {
     "name" : "#%%\n",
     "is_executing" : false
    }
   }
  },
  {
   "cell_type" : "code",
   "execution_count" : 49,
   "outputs" : [ ],
   "source" : [
    "dj = dj[dj > 0]"
   ],
   "metadata" : {
    "collapsed" : false,
    "pycharm" : {
     "name" : "#%%\n",
     "is_executing" : false
    }
   }
  },
  {
   "cell_type" : "code",
   "execution_count" : 50,
   "outputs" : [ ],
   "source" : [
    "bins = [0,1,2,3,4,5,8,10,15,16]"
   ],
   "metadata" : {
    "collapsed" : false,
    "pycharm" : {
     "name" : "#%%\n",
     "is_executing" : false
    }
   }
  },
  {
   "cell_type" : "code",
   "execution_count" : 51,
   "outputs" : [
    {
     "data" : {
      "text/plain" : "<matplotlib.axes._subplots.AxesSubplot at 0x21dd3455708>"
     },
     "metadata" : { },
     "output_type" : "execute_result",
     "execution_count" : 51
    },
    {
     "data" : {
      "text/plain" : "<Figure size 720x576 with 1 Axes>",
      "image/png" : "[encoded data removed]"
     },
     "metadata" : {
      "needs_background" : "light"
     },
     "output_type" : "display_data"
    }
   ],
   "source" : [
    "pd.cut(dj, bins).value_counts().plot.barh(figsize=(10, 8))"
   ],
   "metadata" : {
    "collapsed" : false,
    "pycharm" : {
     "name" : "#%%\n",
     "is_executing" : false
    }
   }
  },
  {
   "cell_type" : "code",
   "execution_count" : 52,
   "outputs" : [ ],
   "source" : [
    "jjr_zongjia = data.groupby('xingming')['cjzongjia'].sum()"
   ],
   "metadata" : {
    "collapsed" : false,
    "pycharm" : {
     "name" : "#%%\n",
     "is_executing" : false
    }
   }
  },
  {
   "cell_type" : "code",
   "execution_count" : 53,
   "outputs" : [ ],
   "source" : [
    "jjr_zongjia = jjr_zongjia[jjr_zongjia > 10000]"
   ],
   "metadata" : {
    "collapsed" : false,
    "pycharm" : {
     "name" : "#%%\n",
     "is_executing" : false
    }
   }
  },
  {
   "cell_type" : "code",
   "execution_count" : 54,
   "outputs" : [ ],
   "source" : [
    "bj_z = data.groupby(['bankuai', 'xingming'])['cjzongjia'].sum()"
   ],
   "metadata" : {
    "collapsed" : false,
    "pycharm" : {
     "name" : "#%%\n",
     "is_executing" : false
    }
   }
  },
  {
   "cell_type" : "code",
   "execution_count" : 55,
   "outputs" : [
    {
     "data" : {
      "text/plain" : "bankuai  xingming\nCBD      李铁岗         14532.08\n         王东学         10232.70\n         王辰          12742.00\n七里庄      乔俊萍         16466.40\n         刘淼          11794.60\n                       ...   \n黄村北      陆新田         16453.98\n         陈盼          10758.20\n黄村火车站    王增强         17893.80\n龙泽       宋瑶          18462.00\n         王明旭         13067.00\nName: cjzongjia, Length: 1448, dtype: float64"
     },
     "metadata" : { },
     "output_type" : "execute_result",
     "execution_count" : 55
    }
   ],
   "source" : [
    "bj_z[bj_z>10000]"
   ],
   "metadata" : {
    "collapsed" : false,
    "pycharm" : {
     "name" : "#%%\n",
     "is_executing" : false
    }
   }
  },
  {
   "cell_type" : "code",
   "execution_count" : 56,
   "outputs" : [ ],
   "source" : [
    "data_nx = data.pivot_table('cjzongjia', index='xingming', columns='congyenianxian',\n",
    "                 aggfunc='sum')"
   ],
   "metadata" : {
    "collapsed" : false,
    "pycharm" : {
     "name" : "#%%\n",
     "is_executing" : false
    }
   }
  },
  {
   "cell_type" : "code",
   "execution_count" : 57,
   "outputs" : [
    {
     "data" : {
      "text/plain" : "<matplotlib.axes._subplots.AxesSubplot at 0x21dd344a888>"
     },
     "metadata" : { },
     "output_type" : "execute_result",
     "execution_count" : 57
    },
    {
     "data" : {
      "text/plain" : "<Figure size 432x432 with 1 Axes>",
      "image/png" : "[encoded data removed]"
     },
     "metadata" : { },
     "output_type" : "display_data"
    }
   ],
   "source" : [
    "plt.rcParams['font.sans-serif']=['SimHei'] #用来正常显示中文标签\n",
    "\n",
    "(data_nx > 10000).sum().plot.pie(figsize=(6,6))"
   ],
   "metadata" : {
    "collapsed" : false,
    "pycharm" : {
     "name" : "#%%\n",
     "is_executing" : false
    }
   }
  },
  {
   "cell_type" : "code",
   "execution_count" : 58,
   "outputs" : [
    {
     "data" : {
      "text/plain" : "回龙观     6023\n望京      4122\n北苑      3254\n天通苑     3083\n顺义城     2873\n        ... \n三河        11\n建国门外      10\n百善镇        9\n海淀其它       8\n农展馆        6\nName: bankuai, Length: 220, dtype: int64"
     },
     "metadata" : { },
     "output_type" : "execute_result",
     "execution_count" : 58
    }
   ],
   "source" : [
    "data.bankuai.value_counts()\n"
   ],
   "metadata" : {
    "collapsed" : false,
    "pycharm" : {
     "name" : "#%%\n",
     "is_executing" : false
    }
   }
  },
  {
   "cell_type" : "code",
   "execution_count" : 59,
   "outputs" : [ ],
   "source" : [
    "# data['cjdanjia'] = data.cjdanjia.dropna().map(lambda x: round(float(x.replace('元/平',''))/10000, 1))\n",
    "data['cjdanjia'] = data.cjdanjia.str.replace('元/平','').astype(np.float32).map(lambda x:round(x/10000,1))\n",
    "\n"
   ],
   "metadata" : {
    "collapsed" : false,
    "pycharm" : {
     "name" : "#%%\n",
     "is_executing" : false
    }
   }
  },
  {
   "cell_type" : "code",
   "execution_count" : 65,
   "outputs" : [ ],
   "source" : [
    "data_1 = data.groupby('bankuai')[['cjdanjia']].mean()"
   ],
   "metadata" : {
    "collapsed" : false,
    "pycharm" : {
     "name" : "#%%\n",
     "is_executing" : false
    }
   }
  },
  {
   "cell_type" : "code",
   "execution_count" : 68,
   "outputs" : [
    {
     "data" : {
      "text/plain" : "         cjdanjia\nbankuai          \n西四       9.475000\n金融街      8.206412\n西单       7.402358\n东四       7.115152\n木樨地      6.997771\n...           ...\n李桥       2.082759\n阎村       2.042857\n良乡       2.037325\n马驹桥      1.993920\n三河       1.727273\n\n[220 rows x 1 columns]",
      "text/html" : "<div>\n<style scoped>\n    .dataframe tbody tr th:only-of-type {\n        vertical-align: middle;\n    }\n\n    .dataframe tbody tr th {\n        vertical-align: top;\n    }\n\n    .dataframe thead th {\n        text-align: right;\n    }\n</style>\n<table border=\"1\" class=\"dataframe\">\n  <thead>\n    <tr style=\"text-align: right;\">\n      <th></th>\n      <th>cjdanjia</th>\n    </tr>\n    <tr>\n      <th>bankuai</th>\n      <th></th>\n    </tr>\n  </thead>\n  <tbody>\n    <tr>\n      <th>西四</th>\n      <td>9.475000</td>\n    </tr>\n    <tr>\n      <th>金融街</th>\n      <td>8.206412</td>\n    </tr>\n    <tr>\n      <th>西单</th>\n      <td>7.402358</td>\n    </tr>\n    <tr>\n      <th>东四</th>\n      <td>7.115152</td>\n    </tr>\n    <tr>\n      <th>木樨地</th>\n      <td>6.997771</td>\n    </tr>\n    <tr>\n      <th>...</th>\n      <td>...</td>\n    </tr>\n    <tr>\n      <th>李桥</th>\n      <td>2.082759</td>\n    </tr>\n    <tr>\n      <th>阎村</th>\n      <td>2.042857</td>\n    </tr>\n    <tr>\n      <th>良乡</th>\n      <td>2.037325</td>\n    </tr>\n    <tr>\n      <th>马驹桥</th>\n      <td>1.993920</td>\n    </tr>\n    <tr>\n      <th>三河</th>\n      <td>1.727273</td>\n    </tr>\n  </tbody>\n</table>\n<p>220 rows × 1 columns</p>\n</div>"
     },
     "metadata" : { },
     "output_type" : "execute_result",
     "execution_count" : 68
    }
   ],
   "source" : [
    "data_1.sort_values(by='cjdanjia', ascending=False)"
   ],
   "metadata" : {
    "collapsed" : false,
    "pycharm" : {
     "name" : "#%%\n",
     "is_executing" : false
    }
   }
  },
  {
   "cell_type" : "code",
   "execution_count" : 73,
   "outputs" : [ ],
   "source" : [
    "def top(group, n=5):\n",
    "   return group.sort_values('cjdanjia', ascending=False)[:n]"
   ],
   "metadata" : {
    "collapsed" : false,
    "pycharm" : {
     "name" : "#%%\n",
     "is_executing" : false
    }
   }
  },
  {
   "cell_type" : "code",
   "execution_count" : 79,
   "outputs" : [
    {
     "data" : {
      "text/plain" : "                cjtaoshu  mendian  cjzongjia zhiwei haoping  cjdanjia  \\\nxingming                                                                \n丁一       48245         9     禧福汇店      250.0  高级经纪人  87% 56       5.4   \n         48246         9     禧福汇店      248.0  高级经纪人  87% 56       4.1   \n         48247         9     禧福汇店      166.0  高级经纪人  87% 56       3.9   \n         48251         9     禧福汇店      184.0  高级经纪人  87% 56       3.7   \n         48248         9     禧福汇店      181.0  高级经纪人  87% 56       3.4   \n...                  ...      ...        ...    ...     ...       ...   \n龚雪       19726        16  大西洋西门D店     1300.0  高级经纪人  85% 71       8.7   \n         19728        16  大西洋西门D店      526.0  高级经纪人  85% 71       8.1   \n         19727        16  大西洋西门D店      495.0  高级经纪人  85% 71       7.4   \n         19729        16  大西洋西门D店      835.0  高级经纪人  85% 71       5.6   \n         19734        16  大西洋西门D店      510.0  高级经纪人  85% 71       5.6   \n\n                         cjxiaoqu xingming cjzhouqi biaoqian     cjlouceng  \\\nxingming                                                                     \n丁一       48245      松榆西里 2室1厅 46平       丁一       22      NaN    南 北/高楼层/6层   \n         48246     平乐园小区 2室1厅 59平       丁一       22      NaN    南 北/中楼层/6层   \n         48247       松榆里 1室1厅 42平       丁一       22      NaN      南/高楼层/6层   \n         48251       农光里 1室1厅 50平       丁一       22      NaN     南/中楼层/12层   \n         48248      农光南路 1室1厅 52平       丁一       22      NaN     南/中楼层/18层   \n...                           ...      ...      ...      ...           ...   \n龚雪       19726  大西洋新城F区 3室2厅 149平       龚雪       82      NaN  东南 西北/中楼层/8层   \n         19728   大西洋新城E区 1室1厅 64平       龚雪       82      NaN     东/低楼层/22层   \n         19727   大西洋新城C区 2室1厅 67平       龚雪       82      NaN    东北/低楼层/28层   \n         19729  大西洋新城F区 3室2厅 149平       龚雪       82      NaN    南 北/中楼层/8层   \n         19734   大西洋新城E区 2室2厅 91平       龚雪       82      NaN   东 北/低楼层/23层   \n\n                      cjshijian congyenianxian bankuai  \nxingming                                                \n丁一       48245  签约时间：2016-09-22           3-4年     大望路  \n         48246  签约时间：2016-07-26           3-4年     大望路  \n         48247  签约时间：2016-01-12           3-4年     大望路  \n         48251  签约时间：2015-03-11           3-4年     大望路  \n         48248  签约时间：2015-05-24           3-4年     大望路  \n...                         ...            ...     ...  \n龚雪       19726  签约时间：2016-09-30           5年以上      望京  \n         19728  签约时间：2016-07-14           5年以上      望京  \n         19727  签约时间：2016-08-28           5年以上      望京  \n         19729  签约时间：2015-11-29           5年以上      望京  \n         19734  签约时间：2014-07-14           5年以上      望京  \n\n[36853 rows x 14 columns]",
      "text/html" : "<div>\n<style scoped>\n    .dataframe tbody tr th:only-of-type {\n        vertical-align: middle;\n    }\n\n    .dataframe tbody tr th {\n        vertical-align: top;\n    }\n\n    .dataframe thead th {\n        text-align: right;\n    }\n</style>\n<table border=\"1\" class=\"dataframe\">\n  <thead>\n    <tr style=\"text-align: right;\">\n      <th></th>\n      <th></th>\n      <th>cjtaoshu</th>\n      <th>mendian</th>\n      <th>cjzongjia</th>\n      <th>zhiwei</th>\n      <th>haoping</th>\n      <th>cjdanjia</th>\n      <th>cjxiaoqu</th>\n      <th>xingming</th>\n      <th>cjzhouqi</th>\n      <th>biaoqian</th>\n      <th>cjlouceng</th>\n      <th>cjshijian</th>\n      <th>congyenianxian</th>\n      <th>bankuai</th>\n    </tr>\n    <tr>\n      <th>xingming</th>\n      <th></th>\n      <th></th>\n      <th></th>\n      <th></th>\n      <th></th>\n      <th></th>\n      <th></th>\n      <th></th>\n      <th></th>\n      <th></th>\n      <th></th>\n      <th></th>\n      <th></th>\n      <th></th>\n      <th></th>\n    </tr>\n  </thead>\n  <tbody>\n    <tr>\n      <th rowspan=\"5\" valign=\"top\">丁一</th>\n      <th>48245</th>\n      <td>9</td>\n      <td>禧福汇店</td>\n      <td>250.0</td>\n      <td>高级经纪人</td>\n      <td>87% 56</td>\n      <td>5.4</td>\n      <td>松榆西里 2室1厅 46平</td>\n      <td>丁一</td>\n      <td>22</td>\n      <td>NaN</td>\n      <td>南 北/高楼层/6层</td>\n      <td>签约时间：2016-09-22</td>\n      <td>3-4年</td>\n      <td>大望路</td>\n    </tr>\n    <tr>\n      <th>48246</th>\n      <td>9</td>\n      <td>禧福汇店</td>\n      <td>248.0</td>\n      <td>高级经纪人</td>\n      <td>87% 56</td>\n      <td>4.1</td>\n      <td>平乐园小区 2室1厅 59平</td>\n      <td>丁一</td>\n      <td>22</td>\n      <td>NaN</td>\n      <td>南 北/中楼层/6层</td>\n      <td>签约时间：2016-07-26</td>\n      <td>3-4年</td>\n      <td>大望路</td>\n    </tr>\n    <tr>\n      <th>48247</th>\n      <td>9</td>\n      <td>禧福汇店</td>\n      <td>166.0</td>\n      <td>高级经纪人</td>\n      <td>87% 56</td>\n      <td>3.9</td>\n      <td>松榆里 1室1厅 42平</td>\n      <td>丁一</td>\n      <td>22</td>\n      <td>NaN</td>\n      <td>南/高楼层/6层</td>\n      <td>签约时间：2016-01-12</td>\n      <td>3-4年</td>\n      <td>大望路</td>\n    </tr>\n    <tr>\n      <th>48251</th>\n      <td>9</td>\n      <td>禧福汇店</td>\n      <td>184.0</td>\n      <td>高级经纪人</td>\n      <td>87% 56</td>\n      <td>3.7</td>\n      <td>农光里 1室1厅 50平</td>\n      <td>丁一</td>\n      <td>22</td>\n      <td>NaN</td>\n      <td>南/中楼层/12层</td>\n      <td>签约时间：2015-03-11</td>\n      <td>3-4年</td>\n      <td>大望路</td>\n    </tr>\n    <tr>\n      <th>48248</th>\n      <td>9</td>\n      <td>禧福汇店</td>\n      <td>181.0</td>\n      <td>高级经纪人</td>\n      <td>87% 56</td>\n      <td>3.4</td>\n      <td>农光南路 1室1厅 52平</td>\n      <td>丁一</td>\n      <td>22</td>\n      <td>NaN</td>\n      <td>南/中楼层/18层</td>\n      <td>签约时间：2015-05-24</td>\n      <td>3-4年</td>\n      <td>大望路</td>\n    </tr>\n    <tr>\n      <th>...</th>\n      <th>...</th>\n      <td>...</td>\n      <td>...</td>\n      <td>...</td>\n      <td>...</td>\n      <td>...</td>\n      <td>...</td>\n      <td>...</td>\n      <td>...</td>\n      <td>...</td>\n      <td>...</td>\n      <td>...</td>\n      <td>...</td>\n      <td>...</td>\n      <td>...</td>\n    </tr>\n    <tr>\n      <th rowspan=\"5\" valign=\"top\">龚雪</th>\n      <th>19726</th>\n      <td>16</td>\n      <td>大西洋西门D店</td>\n      <td>1300.0</td>\n      <td>高级经纪人</td>\n      <td>85% 71</td>\n      <td>8.7</td>\n      <td>大西洋新城F区 3室2厅 149平</td>\n      <td>龚雪</td>\n      <td>82</td>\n      <td>NaN</td>\n      <td>东南 西北/中楼层/8层</td>\n      <td>签约时间：2016-09-30</td>\n      <td>5年以上</td>\n      <td>望京</td>\n    </tr>\n    <tr>\n      <th>19728</th>\n      <td>16</td>\n      <td>大西洋西门D店</td>\n      <td>526.0</td>\n      <td>高级经纪人</td>\n      <td>85% 71</td>\n      <td>8.1</td>\n      <td>大西洋新城E区 1室1厅 64平</td>\n      <td>龚雪</td>\n      <td>82</td>\n      <td>NaN</td>\n      <td>东/低楼层/22层</td>\n      <td>签约时间：2016-07-14</td>\n      <td>5年以上</td>\n      <td>望京</td>\n    </tr>\n    <tr>\n      <th>19727</th>\n      <td>16</td>\n      <td>大西洋西门D店</td>\n      <td>495.0</td>\n      <td>高级经纪人</td>\n      <td>85% 71</td>\n      <td>7.4</td>\n      <td>大西洋新城C区 2室1厅 67平</td>\n      <td>龚雪</td>\n      <td>82</td>\n      <td>NaN</td>\n      <td>东北/低楼层/28层</td>\n      <td>签约时间：2016-08-28</td>\n      <td>5年以上</td>\n      <td>望京</td>\n    </tr>\n    <tr>\n      <th>19729</th>\n      <td>16</td>\n      <td>大西洋西门D店</td>\n      <td>835.0</td>\n      <td>高级经纪人</td>\n      <td>85% 71</td>\n      <td>5.6</td>\n      <td>大西洋新城F区 3室2厅 149平</td>\n      <td>龚雪</td>\n      <td>82</td>\n      <td>NaN</td>\n      <td>南 北/中楼层/8层</td>\n      <td>签约时间：2015-11-29</td>\n      <td>5年以上</td>\n      <td>望京</td>\n    </tr>\n    <tr>\n      <th>19734</th>\n      <td>16</td>\n      <td>大西洋西门D店</td>\n      <td>510.0</td>\n      <td>高级经纪人</td>\n      <td>85% 71</td>\n      <td>5.6</td>\n      <td>大西洋新城E区 2室2厅 91平</td>\n      <td>龚雪</td>\n      <td>82</td>\n      <td>NaN</td>\n      <td>东 北/低楼层/23层</td>\n      <td>签约时间：2014-07-14</td>\n      <td>5年以上</td>\n      <td>望京</td>\n    </tr>\n  </tbody>\n</table>\n<p>36853 rows × 14 columns</p>\n</div>"
     },
     "metadata" : { },
     "output_type" : "execute_result",
     "execution_count" : 79
    }
   ],
   "source" : [
    "data.groupby('xingming').apply(top)\n",
    "\n"
   ],
   "metadata" : {
    "collapsed" : false,
    "pycharm" : {
     "name" : "#%%\n",
     "is_executing" : false
    }
   }
  }
 ],
 "metadata" : {
  "kernelspec" : {
   "display_name" : "Python 3",
   "language" : "python",
   "name" : "python3"
  },
  "language_info" : {
   "codemirror_mode" : {
    "name" : "ipython",
    "version" : 2
   },
   "file_extension" : ".py",
   "mimetype" : "text/x-python",
   "name" : "python",
   "nbconvert_exporter" : "python",
   "pygments_lexer" : "ipython2",
   "version" : "2.7.6"
  },
  "pycharm" : {
   "stem_cell" : {
    "cell_type" : "raw",
    "source" : [ ],
    "metadata" : {
     "collapsed" : false
    }
   }
  }
 },
 "nbformat" : 4,
 "nbformat_minor" : 0
}