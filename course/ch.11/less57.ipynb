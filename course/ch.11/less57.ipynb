{
 "cells": [
  {
   "cell_type": "code",
   "execution_count": 72,
   "metadata": {
    "collapsed": true,
    "pycharm": {
     "is_executing": false
    }
   },
   "outputs": [],
   "source": [
    "import pandas as pd\n",
    "import numpy as np\n",
    "import matplotlib.pyplot as plt\n",
    "%matplotlib inline\n",
    "from sklearn.model_selection import train_test_split\n",
    "from sklearn.linear_model import LinearRegression\n",
    "from sklearn import metrics"
   ]
  },
  {
   "cell_type": "code",
   "execution_count": 73,
   "outputs": [],
   "source": [
    "data1 = pd.read_csv('../fangchan/lianjia1.csv', encoding='gbk')\n",
    "data2 = pd.read_csv('../fangchan/lianjia2.csv', encoding='gbk')\n",
    "data3 = pd.read_csv('../fangchan/lianjia3.csv', encoding='utf-8')\n",
    "data4 = pd.read_csv('../fangchan/lianjia4.csv', encoding='utf-8')\n",
    "data5 = pd.read_csv('../fangchan/lianjia5.csv', encoding='utf-8')\n",
    "data6 = pd.read_csv('../fangchan/lianjia6.csv', encoding='utf-8')\n",
    "data7 = pd.read_csv('../fangchan/lianjia7.csv', encoding='utf-8')"
   ],
   "metadata": {
    "collapsed": false,
    "pycharm": {
     "name": "#%%\n",
     "is_executing": false
    }
   }
  },
  {
   "cell_type": "code",
   "execution_count": 74,
   "outputs": [],
   "source": [
    "data = pd.concat([data1, data2, data3, data4, data5, data6, data7])\n",
    "data = data.dropna()"
   ],
   "metadata": {
    "collapsed": false,
    "pycharm": {
     "name": "#%%\n",
     "is_executing": false
    }
   }
  },
  {
   "cell_type": "code",
   "execution_count": 75,
   "outputs": [],
   "source": [
    "data = data[data.cjshijian.str.contains('2015-')]"
   ],
   "metadata": {
    "collapsed": false,
    "pycharm": {
     "name": "#%%\n",
     "is_executing": false
    }
   }
  },
  {
   "cell_type": "code",
   "execution_count": 76,
   "outputs": [],
   "source": [
    "data = data[['cjdanjia', 'cjxiaoqu', 'cjlouceng']]"
   ],
   "metadata": {
    "collapsed": false,
    "pycharm": {
     "name": "#%%\n",
     "is_executing": false
    }
   }
  },
  {
   "cell_type": "code",
   "execution_count": 77,
   "outputs": [],
   "source": [
    "data['cjdanjia'] = data.cjdanjia.str.replace('元/平', '').astype(np.float32).map(lambda x: round(x/10000, 2))"
   ],
   "metadata": {
    "collapsed": false,
    "pycharm": {
     "name": "#%%\n",
     "is_executing": false
    }
   }
  },
  {
   "cell_type": "code",
   "execution_count": 78,
   "outputs": [
    {
     "data": {
      "text/plain": "3"
     },
     "metadata": {},
     "output_type": "execute_result",
     "execution_count": 78
    }
   ],
   "source": [
    "sum(data.cjxiaoqu.str.split().map(len) != 3)"
   ],
   "metadata": {
    "collapsed": false,
    "pycharm": {
     "name": "#%%\n",
     "is_executing": false
    }
   }
  },
  {
   "cell_type": "code",
   "execution_count": 79,
   "outputs": [],
   "source": [
    "data = data[data.cjxiaoqu.str.split().map(len) == 3]"
   ],
   "metadata": {
    "collapsed": false,
    "pycharm": {
     "name": "#%%\n",
     "is_executing": false
    }
   }
  },
  {
   "cell_type": "code",
   "execution_count": 80,
   "outputs": [],
   "source": [
    "data = data.assign(xiaoqu=data.cjxiaoqu.map(lambda x:x.split()[0]))"
   ],
   "metadata": {
    "collapsed": false,
    "pycharm": {
     "name": "#%%\n",
     "is_executing": false
    }
   }
  },
  {
   "cell_type": "code",
   "execution_count": 81,
   "outputs": [],
   "source": [
    "data = data.assign(huxing=data.cjxiaoqu.map(lambda x:x.split()[1]))"
   ],
   "metadata": {
    "collapsed": false,
    "pycharm": {
     "name": "#%%\n",
     "is_executing": false
    }
   }
  },
  {
   "cell_type": "code",
   "execution_count": 82,
   "outputs": [],
   "source": [
    "data = data.assign(mianji=data.cjxiaoqu.map(lambda x:x.split()[2]))"
   ],
   "metadata": {
    "collapsed": false,
    "pycharm": {
     "name": "#%%\n",
     "is_executing": false
    }
   }
  },
  {
   "cell_type": "code",
   "execution_count": 83,
   "outputs": [],
   "source": [
    "del data['cjxiaoqu']"
   ],
   "metadata": {
    "collapsed": false,
    "pycharm": {
     "name": "#%%\n",
     "is_executing": false
    }
   }
  },
  {
   "cell_type": "code",
   "execution_count": 84,
   "outputs": [
    {
     "data": {
      "text/plain": "0"
     },
     "metadata": {},
     "output_type": "execute_result",
     "execution_count": 84
    }
   ],
   "source": [
    "sum(data.cjlouceng.str.split('/').map(len)!=3) \n"
   ],
   "metadata": {
    "collapsed": false,
    "pycharm": {
     "name": "#%%\n",
     "is_executing": false
    }
   }
  },
  {
   "cell_type": "code",
   "execution_count": 85,
   "outputs": [],
   "source": [
    "data = data.assign(chaoxiang=data.cjlouceng.map(lambda x:x.split('/')[0])) "
   ],
   "metadata": {
    "collapsed": false,
    "pycharm": {
     "name": "#%%\n",
     "is_executing": false
    }
   }
  },
  {
   "cell_type": "code",
   "execution_count": 86,
   "outputs": [],
   "source": [
    "data = data.assign(louceng=data.cjlouceng.map(lambda x:x.split('/')[1]))\n"
   ],
   "metadata": {
    "collapsed": false,
    "pycharm": {
     "name": "#%%\n",
     "is_executing": false
    }
   }
  },
  {
   "cell_type": "code",
   "execution_count": 87,
   "outputs": [],
   "source": [
    "del data['cjlouceng']"
   ],
   "metadata": {
    "collapsed": false,
    "pycharm": {
     "name": "#%%\n",
     "is_executing": false
    }
   }
  },
  {
   "cell_type": "code",
   "execution_count": 88,
   "outputs": [],
   "source": [
    "top15 = data.xiaoqu.value_counts()[:15].index"
   ],
   "metadata": {
    "collapsed": false,
    "pycharm": {
     "name": "#%%\n",
     "is_executing": false
    }
   }
  },
  {
   "cell_type": "code",
   "execution_count": 89,
   "outputs": [],
   "source": [
    "data = data[data.xiaoqu.isin(top15)]"
   ],
   "metadata": {
    "collapsed": false,
    "pycharm": {
     "name": "#%%\n",
     "is_executing": false
    }
   }
  },
  {
   "cell_type": "code",
   "execution_count": 90,
   "outputs": [],
   "source": [
    "data['mianji'] = data.mianji.str.replace('平', '').astype(np.float32)"
   ],
   "metadata": {
    "collapsed": false,
    "pycharm": {
     "name": "#%%\n",
     "is_executing": false
    }
   }
  },
  {
   "cell_type": "code",
   "execution_count": 91,
   "outputs": [],
   "source": [
    "data = data[data.chaoxiang!='暂无数据']"
   ],
   "metadata": {
    "collapsed": false,
    "pycharm": {
     "name": "#%%\n",
     "is_executing": false
    }
   }
  },
  {
   "cell_type": "code",
   "execution_count": 92,
   "outputs": [
    {
     "data": {
      "text/plain": "array(['1室1厅', '1室--厅', '2室1厅', '2室2厅', '3室2厅', '4室2厅', '1室2厅', '3室1厅',\n       '5室1厅', '3室--厅', '5室--厅', '4室1厅', '5室2厅', '3室3厅', '2室--厅', '2室3厅',\n       '4室--厅'], dtype=object)"
     },
     "metadata": {},
     "output_type": "execute_result",
     "execution_count": 92
    }
   ],
   "source": [
    "data.huxing.unique()"
   ],
   "metadata": {
    "collapsed": false,
    "pycharm": {
     "name": "#%%\n",
     "is_executing": false
    }
   }
  },
  {
   "cell_type": "code",
   "execution_count": 93,
   "outputs": [],
   "source": [
    "data.huxing = data.huxing.str.replace('--','1')"
   ],
   "metadata": {
    "collapsed": false,
    "pycharm": {
     "name": "#%%\n",
     "is_executing": false
    }
   }
  },
  {
   "cell_type": "code",
   "execution_count": 94,
   "outputs": [],
   "source": [
    "# 独热编码 one-hot （有那个属性，就标记为1，否则为0，为了防止属性之间存在线性关系）\n",
    "data = data.join(pd.get_dummies(data[['xiaoqu', 'huxing', 'louceng']]))"
   ],
   "metadata": {
    "collapsed": false,
    "pycharm": {
     "name": "#%%\n",
     "is_executing": false
    }
   }
  },
  {
   "cell_type": "code",
   "execution_count": 95,
   "outputs": [
    {
     "data": {
      "text/plain": "array(['南', '东', '南 北', '东 西', '南 西', '南 北 西', '西南', '西 北', '东南', '东 北',\n       '东 南', '西 南', '东北', '东 南 北', '西北', '西', '北', '西南 东北', '西 南 北',\n       '东 南 西', '南 北 东', '南 西 北', '东 西 北', '东 西 南', '北 东南', '北 西南',\n       '东 北 南'], dtype=object)"
     },
     "metadata": {},
     "output_type": "execute_result",
     "execution_count": 95
    }
   ],
   "source": [
    "data.chaoxiang.unique()"
   ],
   "metadata": {
    "collapsed": false,
    "pycharm": {
     "name": "#%%\n",
     "is_executing": false
    }
   }
  },
  {
   "cell_type": "code",
   "execution_count": 96,
   "outputs": [],
   "source": [
    "data['dong'] = (data.chaoxiang.map(lambda x:'东' in x.split())).astype(np.int32)\n",
    "data['xi'] = (data.chaoxiang.map(lambda x:'西' in x.split())).astype(np.int32)\n",
    "data['nan'] = (data.chaoxiang.map(lambda x:'南' in x.split())).astype(np.int32)\n",
    "data['bei'] = (data.chaoxiang.map(lambda x:'北' in x.split())).astype(np.int32)\n",
    "data['dongnan'] = (data.chaoxiang.map(lambda x:'东南' in x.split())).astype(np.int32)\n",
    "data['dongbei'] = (data.chaoxiang.map(lambda x:'东北' in x.split())).astype(np.int32)\n",
    "data['xinan'] = (data.chaoxiang.map(lambda x:'西南' in x.split())).astype(np.int32)\n",
    "data['xibei'] = (data.chaoxiang.map(lambda x:'西北' in x.split())).astype(np.int32)\n"
   ],
   "metadata": {
    "collapsed": false,
    "pycharm": {
     "name": "#%%\n",
     "is_executing": false
    }
   }
  },
  {
   "cell_type": "code",
   "execution_count": 97,
   "outputs": [
    {
     "data": {
      "text/plain": "     cjdanjia  xiaoqu huxing  mianji chaoxiang louceng  xiaoqu_东亚上北中心  \\\n31       6.62  荣丰2008   1室1厅    32.0         南     低楼层              0   \n148      3.86   芍药居北里   1室1厅    43.0         南     地下室              0   \n260      3.81   沿海赛洛城   1室1厅    64.0         东     低楼层              0   \n261      3.32   沿海赛洛城   1室1厅    57.0         东     中楼层              0   \n285      3.96   沿海赛洛城   2室2厅   105.0       南 北     中楼层              0   \n\n     xiaoqu_北京像素北区  xiaoqu_北京像素南区  xiaoqu_北京新天地  ...  louceng_地下室  \\\n31               0              0             0  ...            0   \n148              0              0             0  ...            1   \n260              0              0             0  ...            0   \n261              0              0             0  ...            0   \n285              0              0             0  ...            0   \n\n     louceng_高楼层  dong  xi  nan  bei  dongnan  dongbei  xinan  xibei  \n31             0     0   0    1    0        0        0      0      0  \n148            0     0   0    1    0        0        0      0      0  \n260            0     1   0    0    0        0        0      0      0  \n261            0     1   0    0    0        0        0      0      0  \n285            0     0   0    1    1        0        0      0      0  \n\n[5 rows x 45 columns]",
      "text/html": "<div>\n<style scoped>\n    .dataframe tbody tr th:only-of-type {\n        vertical-align: middle;\n    }\n\n    .dataframe tbody tr th {\n        vertical-align: top;\n    }\n\n    .dataframe thead th {\n        text-align: right;\n    }\n</style>\n<table border=\"1\" class=\"dataframe\">\n  <thead>\n    <tr style=\"text-align: right;\">\n      <th></th>\n      <th>cjdanjia</th>\n      <th>xiaoqu</th>\n      <th>huxing</th>\n      <th>mianji</th>\n      <th>chaoxiang</th>\n      <th>louceng</th>\n      <th>xiaoqu_东亚上北中心</th>\n      <th>xiaoqu_北京像素北区</th>\n      <th>xiaoqu_北京像素南区</th>\n      <th>xiaoqu_北京新天地</th>\n      <th>...</th>\n      <th>louceng_地下室</th>\n      <th>louceng_高楼层</th>\n      <th>dong</th>\n      <th>xi</th>\n      <th>nan</th>\n      <th>bei</th>\n      <th>dongnan</th>\n      <th>dongbei</th>\n      <th>xinan</th>\n      <th>xibei</th>\n    </tr>\n  </thead>\n  <tbody>\n    <tr>\n      <th>31</th>\n      <td>6.62</td>\n      <td>荣丰2008</td>\n      <td>1室1厅</td>\n      <td>32.0</td>\n      <td>南</td>\n      <td>低楼层</td>\n      <td>0</td>\n      <td>0</td>\n      <td>0</td>\n      <td>0</td>\n      <td>...</td>\n      <td>0</td>\n      <td>0</td>\n      <td>0</td>\n      <td>0</td>\n      <td>1</td>\n      <td>0</td>\n      <td>0</td>\n      <td>0</td>\n      <td>0</td>\n      <td>0</td>\n    </tr>\n    <tr>\n      <th>148</th>\n      <td>3.86</td>\n      <td>芍药居北里</td>\n      <td>1室1厅</td>\n      <td>43.0</td>\n      <td>南</td>\n      <td>地下室</td>\n      <td>0</td>\n      <td>0</td>\n      <td>0</td>\n      <td>0</td>\n      <td>...</td>\n      <td>1</td>\n      <td>0</td>\n      <td>0</td>\n      <td>0</td>\n      <td>1</td>\n      <td>0</td>\n      <td>0</td>\n      <td>0</td>\n      <td>0</td>\n      <td>0</td>\n    </tr>\n    <tr>\n      <th>260</th>\n      <td>3.81</td>\n      <td>沿海赛洛城</td>\n      <td>1室1厅</td>\n      <td>64.0</td>\n      <td>东</td>\n      <td>低楼层</td>\n      <td>0</td>\n      <td>0</td>\n      <td>0</td>\n      <td>0</td>\n      <td>...</td>\n      <td>0</td>\n      <td>0</td>\n      <td>1</td>\n      <td>0</td>\n      <td>0</td>\n      <td>0</td>\n      <td>0</td>\n      <td>0</td>\n      <td>0</td>\n      <td>0</td>\n    </tr>\n    <tr>\n      <th>261</th>\n      <td>3.32</td>\n      <td>沿海赛洛城</td>\n      <td>1室1厅</td>\n      <td>57.0</td>\n      <td>东</td>\n      <td>中楼层</td>\n      <td>0</td>\n      <td>0</td>\n      <td>0</td>\n      <td>0</td>\n      <td>...</td>\n      <td>0</td>\n      <td>0</td>\n      <td>1</td>\n      <td>0</td>\n      <td>0</td>\n      <td>0</td>\n      <td>0</td>\n      <td>0</td>\n      <td>0</td>\n      <td>0</td>\n    </tr>\n    <tr>\n      <th>285</th>\n      <td>3.96</td>\n      <td>沿海赛洛城</td>\n      <td>2室2厅</td>\n      <td>105.0</td>\n      <td>南 北</td>\n      <td>中楼层</td>\n      <td>0</td>\n      <td>0</td>\n      <td>0</td>\n      <td>0</td>\n      <td>...</td>\n      <td>0</td>\n      <td>0</td>\n      <td>0</td>\n      <td>0</td>\n      <td>1</td>\n      <td>1</td>\n      <td>0</td>\n      <td>0</td>\n      <td>0</td>\n      <td>0</td>\n    </tr>\n  </tbody>\n</table>\n<p>5 rows × 45 columns</p>\n</div>"
     },
     "metadata": {},
     "output_type": "execute_result",
     "execution_count": 97
    }
   ],
   "source": [
    "data.head()"
   ],
   "metadata": {
    "collapsed": false,
    "pycharm": {
     "name": "#%%\n",
     "is_executing": false
    }
   }
  },
  {
   "cell_type": "code",
   "execution_count": 98,
   "outputs": [],
   "source": [
    "data.drop(data.columns[[1, 2, 4, 5]], axis=1, inplace=True)"
   ],
   "metadata": {
    "collapsed": false,
    "pycharm": {
     "name": "#%%\n",
     "is_executing": false
    }
   }
  },
  {
   "cell_type": "code",
   "execution_count": 99,
   "outputs": [],
   "source": [
    "Y = data.cjdanjia\n",
    "X = data[[x for x in data.columns if x != 'cjdanjia']]\n"
   ],
   "metadata": {
    "collapsed": false,
    "pycharm": {
     "name": "#%%\n",
     "is_executing": false
    }
   }
  },
  {
   "cell_type": "code",
   "execution_count": 100,
   "outputs": [],
   "source": [
    "X_train, X_test, Y_train, Y_test = train_test_split(X, Y)"
   ],
   "metadata": {
    "collapsed": false,
    "pycharm": {
     "name": "#%%\n",
     "is_executing": false
    }
   }
  },
  {
   "cell_type": "code",
   "execution_count": 101,
   "outputs": [
    {
     "data": {
      "text/plain": "(1389, 40)"
     },
     "metadata": {},
     "output_type": "execute_result",
     "execution_count": 101
    }
   ],
   "source": [
    "np.shape(X_train.values)"
   ],
   "metadata": {
    "collapsed": false,
    "pycharm": {
     "name": "#%%\n",
     "is_executing": false
    }
   }
  },
  {
   "cell_type": "code",
   "execution_count": 102,
   "outputs": [],
   "source": [
    "model = LinearRegression()"
   ],
   "metadata": {
    "collapsed": false,
    "pycharm": {
     "name": "#%%\n",
     "is_executing": false
    }
   }
  },
  {
   "cell_type": "code",
   "execution_count": 103,
   "outputs": [
    {
     "data": {
      "text/plain": "LinearRegression(copy_X=True, fit_intercept=True, n_jobs=None,\n         normalize=False)"
     },
     "metadata": {},
     "output_type": "execute_result",
     "execution_count": 103
    }
   ],
   "source": [
    "model.fit(X_train, Y_train)"
   ],
   "metadata": {
    "collapsed": false,
    "pycharm": {
     "name": "#%%\n",
     "is_executing": false
    }
   }
  },
  {
   "cell_type": "markdown",
   "source": [
    "模型评价"
   ],
   "metadata": {
    "collapsed": false,
    "pycharm": {
     "name": "#%% md\n"
    }
   }
  },
  {
   "cell_type": "code",
   "execution_count": 105,
   "outputs": [
    {
     "data": {
      "text/plain": "0.29632991770529843"
     },
     "metadata": {},
     "output_type": "execute_result",
     "execution_count": 105
    }
   ],
   "source": [
    "metrics.mean_squared_error(model.predict(X_test), Y_test)"
   ],
   "metadata": {
    "collapsed": false,
    "pycharm": {
     "name": "#%%\n",
     "is_executing": false
    }
   }
  },
  {
   "cell_type": "code",
   "execution_count": 108,
   "outputs": [],
   "source": [
    "data_test = pd.Series(np.zeros(len([x for x in data.columns if x != 'cjdanjia'])), index=[x for x in data.columns if x != 'cjdanjia'])"
   ],
   "metadata": {
    "collapsed": false,
    "pycharm": {
     "name": "#%%\n",
     "is_executing": false
    }
   }
  },
  {
   "cell_type": "code",
   "execution_count": 117,
   "outputs": [],
   "source": [
    "# 构造待预测的数据\n",
    "data_test.mianji = 80\n",
    "data_test.xiaoqu_天通西苑三区 = 1\n",
    "data_test.nan = 1\n",
    "data_test.bei = 1\n",
    "data_test.huxing_2室2厅 = 1\n",
    "data_test.louceng_地下室 = 1"
   ],
   "metadata": {
    "collapsed": false,
    "pycharm": {
     "name": "#%%\n",
     "is_executing": false
    }
   }
  },
  {
   "cell_type": "code",
   "execution_count": 118,
   "outputs": [
    {
     "data": {
      "text/plain": "array([1.28826657])"
     },
     "metadata": {},
     "output_type": "execute_result",
     "execution_count": 118
    }
   ],
   "source": [
    "model.predict(data_test.values.reshape(1, -1))\n"
   ],
   "metadata": {
    "collapsed": false,
    "pycharm": {
     "name": "#%%\n",
     "is_executing": false
    }
   }
  }
 ],
 "metadata": {
  "kernelspec": {
   "display_name": "Python 3",
   "language": "python",
   "name": "python3"
  },
  "language_info": {
   "codemirror_mode": {
    "name": "ipython",
    "version": 2
   },
   "file_extension": ".py",
   "mimetype": "text/x-python",
   "name": "python",
   "nbconvert_exporter": "python",
   "pygments_lexer": "ipython2",
   "version": "2.7.6"
  },
  "pycharm": {
   "stem_cell": {
    "cell_type": "raw",
    "source": [],
    "metadata": {
     "collapsed": false
    }
   }
  }
 },
 "nbformat": 4,
 "nbformat_minor": 0
}